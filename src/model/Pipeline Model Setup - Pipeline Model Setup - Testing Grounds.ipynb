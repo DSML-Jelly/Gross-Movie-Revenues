{
 "cells": [
  {
   "cell_type": "code",
   "execution_count": 1,
   "id": "04f7aa64",
   "metadata": {},
   "outputs": [],
   "source": [
    "import pandas as pd\n",
    "import numpy as np\n",
    "import statsmodels.api as sm\n",
    "from sklearn.model_selection import train_test_split\n",
    "from sklearn.impute import SimpleImputer\n",
    "from sklearn.preprocessing import OneHotEncoder, StandardScaler\n",
    "from sklearn.feature_extraction.text import TfidfVectorizer\n",
    "from sklearn.ensemble import RandomForestRegressor\n",
    "from sklearn.compose import ColumnTransformer\n",
    "from sklearn.preprocessing import Normalizer\n",
    "from sklearn.pipeline import Pipeline, make_pipeline\n",
    "from sklearn.linear_model import Lasso, Ridge, LinearRegression, LogisticRegression\n",
    "from sklearn.metrics import mean_squared_error\n",
    "from sklearn.model_selection import GridSearchCV\n",
    "import pickle as pkl\n",
    "from tqdm import tqdm\n",
    "import time\n",
    "from datetime import datetime\n",
    "import joblib\n",
    "pd.set_option('display.max_columns', None)"
   ]
  },
  {
   "cell_type": "code",
   "execution_count": 2,
   "id": "76d6a4d1",
   "metadata": {},
   "outputs": [],
   "source": [
    "from sklearn.feature_extraction.text import TfidfVectorizer\n",
    "import nltk\n",
    "from nltk.corpus import stopwords\n",
    "\n",
    "stopwords = stopwords.words('english')"
   ]
  },
  {
   "cell_type": "code",
   "execution_count": 3,
   "id": "aa90bab4",
   "metadata": {},
   "outputs": [],
   "source": [
    "data = pd.read_csv('final_data.csv')"
   ]
  },
  {
   "cell_type": "code",
   "execution_count": 4,
   "id": "e2dfe22d",
   "metadata": {},
   "outputs": [
    {
     "data": {
      "text/html": [
       "<div>\n",
       "<style scoped>\n",
       "    .dataframe tbody tr th:only-of-type {\n",
       "        vertical-align: middle;\n",
       "    }\n",
       "\n",
       "    .dataframe tbody tr th {\n",
       "        vertical-align: top;\n",
       "    }\n",
       "\n",
       "    .dataframe thead th {\n",
       "        text-align: right;\n",
       "    }\n",
       "</style>\n",
       "<table border=\"1\" class=\"dataframe\">\n",
       "  <thead>\n",
       "    <tr style=\"text-align: right;\">\n",
       "      <th></th>\n",
       "      <th>1st_year_revenue</th>\n",
       "      <th>title</th>\n",
       "      <th>year</th>\n",
       "      <th>released</th>\n",
       "      <th>runtime</th>\n",
       "      <th>plot</th>\n",
       "      <th>top_10_dir</th>\n",
       "      <th>top_50_dir</th>\n",
       "      <th>top_100_dir</th>\n",
       "      <th>top_10_actors</th>\n",
       "      <th>top_50_actors</th>\n",
       "      <th>top_100_actors</th>\n",
       "      <th>language</th>\n",
       "      <th>country</th>\n",
       "      <th>rating</th>\n",
       "      <th>Action</th>\n",
       "      <th>Adventure</th>\n",
       "      <th>Fantasy/Sci-Fi</th>\n",
       "      <th>Crime</th>\n",
       "      <th>Thriller/Mystery</th>\n",
       "      <th>Drama</th>\n",
       "      <th>Horror</th>\n",
       "      <th>Comedy</th>\n",
       "      <th>Documentary</th>\n",
       "      <th>Family/Animated</th>\n",
       "      <th>Biography/History</th>\n",
       "      <th>Romance</th>\n",
       "      <th>Music/Musical</th>\n",
       "      <th>Likely TV</th>\n",
       "    </tr>\n",
       "  </thead>\n",
       "  <tbody>\n",
       "    <tr>\n",
       "      <th>0</th>\n",
       "      <td>2197561</td>\n",
       "      <td>Africa's Elephant Kingdom</td>\n",
       "      <td>1998</td>\n",
       "      <td>1998-05-08</td>\n",
       "      <td>40.0</td>\n",
       "      <td>This film explores an elephant clan's search f...</td>\n",
       "      <td>0.0</td>\n",
       "      <td>0.0</td>\n",
       "      <td>0.0</td>\n",
       "      <td>0.0</td>\n",
       "      <td>0.0</td>\n",
       "      <td>0.0</td>\n",
       "      <td>English only</td>\n",
       "      <td>US only</td>\n",
       "      <td>Unrated</td>\n",
       "      <td>0.0</td>\n",
       "      <td>0.0</td>\n",
       "      <td>0.0</td>\n",
       "      <td>0.0</td>\n",
       "      <td>0.0</td>\n",
       "      <td>0.0</td>\n",
       "      <td>0.0</td>\n",
       "      <td>0.0</td>\n",
       "      <td>1.0</td>\n",
       "      <td>0.0</td>\n",
       "      <td>0.0</td>\n",
       "      <td>0.0</td>\n",
       "      <td>0.0</td>\n",
       "      <td>0.0</td>\n",
       "    </tr>\n",
       "    <tr>\n",
       "      <th>1</th>\n",
       "      <td>2637726</td>\n",
       "      <td>God's Army</td>\n",
       "      <td>2000</td>\n",
       "      <td>2000-03-10</td>\n",
       "      <td>108.0</td>\n",
       "      <td>Life as a Mormon missionary isn't what 19-year...</td>\n",
       "      <td>0.0</td>\n",
       "      <td>0.0</td>\n",
       "      <td>0.0</td>\n",
       "      <td>0.0</td>\n",
       "      <td>0.0</td>\n",
       "      <td>0.0</td>\n",
       "      <td>English only</td>\n",
       "      <td>US only</td>\n",
       "      <td>PG</td>\n",
       "      <td>0.0</td>\n",
       "      <td>0.0</td>\n",
       "      <td>0.0</td>\n",
       "      <td>0.0</td>\n",
       "      <td>0.0</td>\n",
       "      <td>1.0</td>\n",
       "      <td>0.0</td>\n",
       "      <td>0.0</td>\n",
       "      <td>0.0</td>\n",
       "      <td>0.0</td>\n",
       "      <td>0.0</td>\n",
       "      <td>0.0</td>\n",
       "      <td>0.0</td>\n",
       "      <td>0.0</td>\n",
       "    </tr>\n",
       "    <tr>\n",
       "      <th>2</th>\n",
       "      <td>2699820</td>\n",
       "      <td>The Bone Collector</td>\n",
       "      <td>1999</td>\n",
       "      <td>1999-11-05</td>\n",
       "      <td>118.0</td>\n",
       "      <td>A quadriplegic ex-homicide detective and his p...</td>\n",
       "      <td>0.0</td>\n",
       "      <td>0.0</td>\n",
       "      <td>0.0</td>\n",
       "      <td>0.0</td>\n",
       "      <td>1.0</td>\n",
       "      <td>1.0</td>\n",
       "      <td>English only</td>\n",
       "      <td>US and others</td>\n",
       "      <td>R</td>\n",
       "      <td>0.0</td>\n",
       "      <td>0.0</td>\n",
       "      <td>0.0</td>\n",
       "      <td>1.0</td>\n",
       "      <td>1.0</td>\n",
       "      <td>1.0</td>\n",
       "      <td>0.0</td>\n",
       "      <td>0.0</td>\n",
       "      <td>0.0</td>\n",
       "      <td>0.0</td>\n",
       "      <td>0.0</td>\n",
       "      <td>0.0</td>\n",
       "      <td>0.0</td>\n",
       "      <td>0.0</td>\n",
       "    </tr>\n",
       "    <tr>\n",
       "      <th>3</th>\n",
       "      <td>2703114</td>\n",
       "      <td>Double Jeopardy</td>\n",
       "      <td>1999</td>\n",
       "      <td>1999-09-24</td>\n",
       "      <td>105.0</td>\n",
       "      <td>A woman framed for her husband's murder suspec...</td>\n",
       "      <td>0.0</td>\n",
       "      <td>0.0</td>\n",
       "      <td>0.0</td>\n",
       "      <td>0.0</td>\n",
       "      <td>0.0</td>\n",
       "      <td>0.0</td>\n",
       "      <td>English only</td>\n",
       "      <td>US and others</td>\n",
       "      <td>R</td>\n",
       "      <td>0.0</td>\n",
       "      <td>0.0</td>\n",
       "      <td>0.0</td>\n",
       "      <td>1.0</td>\n",
       "      <td>1.0</td>\n",
       "      <td>1.0</td>\n",
       "      <td>0.0</td>\n",
       "      <td>0.0</td>\n",
       "      <td>0.0</td>\n",
       "      <td>0.0</td>\n",
       "      <td>0.0</td>\n",
       "      <td>0.0</td>\n",
       "      <td>0.0</td>\n",
       "      <td>0.0</td>\n",
       "    </tr>\n",
       "    <tr>\n",
       "      <th>4</th>\n",
       "      <td>1428932</td>\n",
       "      <td>Three Kings</td>\n",
       "      <td>1999</td>\n",
       "      <td>1999-10-01</td>\n",
       "      <td>114.0</td>\n",
       "      <td>In the aftermath of the Persian Gulf War, four...</td>\n",
       "      <td>0.0</td>\n",
       "      <td>0.0</td>\n",
       "      <td>0.0</td>\n",
       "      <td>1.0</td>\n",
       "      <td>1.0</td>\n",
       "      <td>1.0</td>\n",
       "      <td>English and others</td>\n",
       "      <td>US only</td>\n",
       "      <td>R</td>\n",
       "      <td>1.0</td>\n",
       "      <td>1.0</td>\n",
       "      <td>0.0</td>\n",
       "      <td>0.0</td>\n",
       "      <td>0.0</td>\n",
       "      <td>0.0</td>\n",
       "      <td>0.0</td>\n",
       "      <td>1.0</td>\n",
       "      <td>0.0</td>\n",
       "      <td>0.0</td>\n",
       "      <td>0.0</td>\n",
       "      <td>0.0</td>\n",
       "      <td>0.0</td>\n",
       "      <td>0.0</td>\n",
       "    </tr>\n",
       "  </tbody>\n",
       "</table>\n",
       "</div>"
      ],
      "text/plain": [
       "   1st_year_revenue                      title  year    released  runtime  \\\n",
       "0           2197561  Africa's Elephant Kingdom  1998  1998-05-08     40.0   \n",
       "1           2637726                 God's Army  2000  2000-03-10    108.0   \n",
       "2           2699820         The Bone Collector  1999  1999-11-05    118.0   \n",
       "3           2703114            Double Jeopardy  1999  1999-09-24    105.0   \n",
       "4           1428932                Three Kings  1999  1999-10-01    114.0   \n",
       "\n",
       "                                                plot  top_10_dir  top_50_dir  \\\n",
       "0  This film explores an elephant clan's search f...         0.0         0.0   \n",
       "1  Life as a Mormon missionary isn't what 19-year...         0.0         0.0   \n",
       "2  A quadriplegic ex-homicide detective and his p...         0.0         0.0   \n",
       "3  A woman framed for her husband's murder suspec...         0.0         0.0   \n",
       "4  In the aftermath of the Persian Gulf War, four...         0.0         0.0   \n",
       "\n",
       "   top_100_dir  top_10_actors  top_50_actors  top_100_actors  \\\n",
       "0          0.0            0.0            0.0             0.0   \n",
       "1          0.0            0.0            0.0             0.0   \n",
       "2          0.0            0.0            1.0             1.0   \n",
       "3          0.0            0.0            0.0             0.0   \n",
       "4          0.0            1.0            1.0             1.0   \n",
       "\n",
       "             language        country   rating  Action  Adventure  \\\n",
       "0        English only        US only  Unrated     0.0        0.0   \n",
       "1        English only        US only       PG     0.0        0.0   \n",
       "2        English only  US and others        R     0.0        0.0   \n",
       "3        English only  US and others        R     0.0        0.0   \n",
       "4  English and others        US only        R     1.0        1.0   \n",
       "\n",
       "   Fantasy/Sci-Fi  Crime  Thriller/Mystery  Drama  Horror  Comedy  \\\n",
       "0             0.0    0.0               0.0    0.0     0.0     0.0   \n",
       "1             0.0    0.0               0.0    1.0     0.0     0.0   \n",
       "2             0.0    1.0               1.0    1.0     0.0     0.0   \n",
       "3             0.0    1.0               1.0    1.0     0.0     0.0   \n",
       "4             0.0    0.0               0.0    0.0     0.0     1.0   \n",
       "\n",
       "   Documentary  Family/Animated  Biography/History  Romance  Music/Musical  \\\n",
       "0          1.0              0.0                0.0      0.0            0.0   \n",
       "1          0.0              0.0                0.0      0.0            0.0   \n",
       "2          0.0              0.0                0.0      0.0            0.0   \n",
       "3          0.0              0.0                0.0      0.0            0.0   \n",
       "4          0.0              0.0                0.0      0.0            0.0   \n",
       "\n",
       "   Likely TV  \n",
       "0        0.0  \n",
       "1        0.0  \n",
       "2        0.0  \n",
       "3        0.0  \n",
       "4        0.0  "
      ]
     },
     "execution_count": 4,
     "metadata": {},
     "output_type": "execute_result"
    }
   ],
   "source": [
    "data.head()"
   ]
  },
  {
   "cell_type": "code",
   "execution_count": 5,
   "id": "43a20ef7",
   "metadata": {},
   "outputs": [
    {
     "data": {
      "text/plain": [
       "(4568, 29)"
      ]
     },
     "execution_count": 5,
     "metadata": {},
     "output_type": "execute_result"
    }
   ],
   "source": [
    "data.shape"
   ]
  },
  {
   "cell_type": "code",
   "execution_count": 6,
   "id": "86401311",
   "metadata": {},
   "outputs": [
    {
     "data": {
      "text/plain": [
       "Index(['1st_year_revenue', 'title', 'year', 'released', 'runtime', 'plot',\n",
       "       'top_10_dir', 'top_50_dir', 'top_100_dir', 'top_10_actors',\n",
       "       'top_50_actors', 'top_100_actors', 'language', 'country', 'rating',\n",
       "       'Action', 'Adventure', 'Fantasy/Sci-Fi', 'Crime', 'Thriller/Mystery',\n",
       "       'Drama', 'Horror', 'Comedy', 'Documentary', 'Family/Animated',\n",
       "       'Biography/History', 'Romance', 'Music/Musical', 'Likely TV'],\n",
       "      dtype='object')"
      ]
     },
     "execution_count": 6,
     "metadata": {},
     "output_type": "execute_result"
    }
   ],
   "source": [
    "data.columns"
   ]
  },
  {
   "cell_type": "markdown",
   "id": "f64908d1",
   "metadata": {},
   "source": [
    "### Removing categorical variables for base test"
   ]
  },
  {
   "cell_type": "code",
   "execution_count": 7,
   "id": "86a2e46c",
   "metadata": {},
   "outputs": [
    {
     "name": "stdout",
     "output_type": "stream",
     "text": [
      "                            OLS Regression Results                            \n",
      "==============================================================================\n",
      "Dep. Variable:       1st_year_revenue   R-squared:                       0.036\n",
      "Model:                            OLS   Adj. R-squared:                  0.035\n",
      "Method:                 Least Squares   F-statistic:                     84.73\n",
      "Date:                Thu, 08 Dec 2022   Prob (F-statistic):           7.39e-37\n",
      "Time:                        23:09:47   Log-Likelihood:                -88645.\n",
      "No. Observations:                4568   AIC:                         1.773e+05\n",
      "Df Residuals:                    4565   BIC:                         1.773e+05\n",
      "Df Model:                           2                                         \n",
      "Covariance Type:            nonrobust                                         \n",
      "==============================================================================\n",
      "                 coef    std err          t      P>|t|      [0.025      0.975]\n",
      "------------------------------------------------------------------------------\n",
      "year       -2.532e+06   9.59e+05     -2.640      0.008   -4.41e+06   -6.52e+05\n",
      "runtime     1.218e+07   9.59e+05     12.703      0.000    1.03e+07    1.41e+07\n",
      "const       3.299e+07   9.59e+05     34.400      0.000    3.11e+07    3.49e+07\n",
      "==============================================================================\n",
      "Omnibus:                     3972.346   Durbin-Watson:                   0.462\n",
      "Prob(Omnibus):                  0.000   Jarque-Bera (JB):           141407.429\n",
      "Skew:                           4.073   Prob(JB):                         0.00\n",
      "Kurtosis:                      29.011   Cond. No.                         1.02\n",
      "==============================================================================\n",
      "\n",
      "Notes:\n",
      "[1] Standard Errors assume that the covariance matrix of the errors is correctly specified.\n",
      "year      -2.532341e+06\n",
      "runtime    1.218365e+07\n",
      "const      3.298999e+07\n",
      "dtype: float64\n"
     ]
    }
   ],
   "source": [
    "Y = data['1st_year_revenue']\n",
    "X = data[['year', 'runtime']]\n",
    "# X = pd.concat((\n",
    "#     data,\n",
    "#     pd.get_dummies(data, columns= ['language', 'country', 'rating'], drop_first=True)), axis=1)\n",
    "\n",
    "\n",
    "stand_X = (X - np.mean(X, axis = 0)) / np.std(X, axis = 0)\n",
    "stand_X\n",
    "\n",
    "stand_Y = Y\n",
    "\n",
    "X2 = stand_X\n",
    "Y2 = stand_Y\n",
    "\n",
    "X2 = sm.add_constant(X2, prepend=False)\n",
    "mod = sm.OLS(Y2, X2)\n",
    "res = mod.fit()\n",
    "print(res.summary())\n",
    "print(res.params)"
   ]
  },
  {
   "cell_type": "markdown",
   "id": "9f7fb642",
   "metadata": {},
   "source": [
    "### OLS Regression Results"
   ]
  },
  {
   "cell_type": "markdown",
   "id": "8cdf795f",
   "metadata": {},
   "source": [
    "#### Categories that don't need OHE\n",
    "'directors', 'actors', 'genre'"
   ]
  },
  {
   "cell_type": "code",
   "execution_count": 8,
   "id": "9650a6bd",
   "metadata": {},
   "outputs": [
    {
     "name": "stdout",
     "output_type": "stream",
     "text": [
      "                            OLS Regression Results                            \n",
      "==============================================================================\n",
      "Dep. Variable:       1st_year_revenue   R-squared:                       0.356\n",
      "Model:                            OLS   Adj. R-squared:                  0.351\n",
      "Method:                 Least Squares   F-statistic:                     83.42\n",
      "Date:                Thu, 08 Dec 2022   Prob (F-statistic):               0.00\n",
      "Time:                        23:09:47   Log-Likelihood:                -87725.\n",
      "No. Observations:                4568   AIC:                         1.755e+05\n",
      "Df Residuals:                    4537   BIC:                         1.757e+05\n",
      "Df Model:                          30                                         \n",
      "Covariance Type:            nonrobust                                         \n",
      "=========================================================================================\n",
      "                            coef    std err          t      P>|t|      [0.025      0.975]\n",
      "-----------------------------------------------------------------------------------------\n",
      "year                   1.515e+06   8.13e+05      1.865      0.062   -7.79e+04    3.11e+06\n",
      "runtime                1.343e+07   9.53e+05     14.083      0.000    1.16e+07    1.53e+07\n",
      "top_10_dir             5.086e+05   9.31e+05      0.546      0.585   -1.32e+06    2.33e+06\n",
      "top_50_dir            -4.318e+06   1.36e+06     -3.173      0.002   -6.99e+06   -1.65e+06\n",
      "top_100_dir            9.135e+06    1.3e+06      7.050      0.000     6.6e+06    1.17e+07\n",
      "top_10_actors         -1.846e+06   9.27e+05     -1.991      0.047   -3.66e+06   -2.85e+04\n",
      "top_50_actors          3.218e+06   1.31e+06      2.458      0.014    6.52e+05    5.78e+06\n",
      "top_100_actors         5.143e+06   1.25e+06      4.106      0.000    2.69e+06     7.6e+06\n",
      "Action                 9.815e+05   1.01e+06      0.970      0.332      -1e+06    2.97e+06\n",
      "Adventure              1.503e+07   1.02e+06     14.742      0.000     1.3e+07     1.7e+07\n",
      "Fantasy/Sci-Fi         4.831e+06   8.83e+05      5.474      0.000     3.1e+06    6.56e+06\n",
      "Crime                 -1.629e+06   8.91e+05     -1.828      0.068   -3.38e+06    1.18e+05\n",
      "Thriller/Mystery      -1.038e+06   9.98e+05     -1.040      0.299      -3e+06    9.19e+05\n",
      "Drama                 -7.548e+06   1.09e+06     -6.951      0.000   -9.68e+06   -5.42e+06\n",
      "Horror                -2.155e+05   9.39e+05     -0.230      0.818   -2.06e+06    1.62e+06\n",
      "Comedy                -7.146e+05   1.07e+06     -0.669      0.503   -2.81e+06    1.38e+06\n",
      "Documentary            -2.49e+06   1.15e+06     -2.169      0.030   -4.74e+06   -2.39e+05\n",
      "Family/Animated        6.915e+06   1.13e+06      6.095      0.000    4.69e+06    9.14e+06\n",
      "Biography/History     -2.216e+06   8.82e+05     -2.514      0.012   -3.94e+06   -4.88e+05\n",
      "Romance               -1.736e+06   9.11e+05     -1.906      0.057   -3.52e+06       5e+04\n",
      "Music/Musical         -5.334e+05   8.13e+05     -0.656      0.512   -2.13e+06    1.06e+06\n",
      "Likely TV              3.286e+05   7.94e+05      0.414      0.679   -1.23e+06    1.88e+06\n",
      "language_English only -6.614e+06   9.68e+05     -6.832      0.000   -8.51e+06   -4.72e+06\n",
      "language_Foreign lang -7.991e+06   1.26e+06     -6.330      0.000   -1.05e+07   -5.52e+06\n",
      "country_US and others  6.171e+06   9.98e+05      6.181      0.000    4.21e+06    8.13e+06\n",
      "country_US only        1.046e+07   1.11e+06      9.432      0.000    8.29e+06    1.26e+07\n",
      "rating_PG              -2.23e+06   2.03e+06     -1.100      0.271   -6.21e+06    1.74e+06\n",
      "rating_PG-13           3.692e+06   3.02e+06      1.221      0.222   -2.24e+06    9.62e+06\n",
      "rating_R              -4.827e+06   3.11e+06     -1.551      0.121   -1.09e+07    1.27e+06\n",
      "rating_Unrated        -6.451e+06   2.87e+06     -2.249      0.025   -1.21e+07   -8.28e+05\n",
      "const                  3.299e+07   7.86e+05     41.947      0.000    3.14e+07    3.45e+07\n",
      "==============================================================================\n",
      "Omnibus:                     3829.130   Durbin-Watson:                   0.960\n",
      "Prob(Omnibus):                  0.000   Jarque-Bera (JB):           167552.427\n",
      "Skew:                           3.749   Prob(JB):                         0.00\n",
      "Kurtosis:                      31.707   Cond. No.                         12.5\n",
      "==============================================================================\n",
      "\n",
      "Notes:\n",
      "[1] Standard Errors assume that the covariance matrix of the errors is correctly specified.\n",
      "year                     1.515011e+06\n",
      "runtime                  1.342617e+07\n",
      "top_10_dir               5.085847e+05\n",
      "top_50_dir              -4.317660e+06\n",
      "top_100_dir              9.135457e+06\n",
      "top_10_actors           -1.846076e+06\n",
      "top_50_actors            3.217938e+06\n",
      "top_100_actors           5.142823e+06\n",
      "Action                   9.814679e+05\n",
      "Adventure                1.503167e+07\n",
      "Fantasy/Sci-Fi           4.831387e+06\n",
      "Crime                   -1.629038e+06\n",
      "Thriller/Mystery        -1.038146e+06\n",
      "Drama                   -7.548181e+06\n",
      "Horror                  -2.155049e+05\n",
      "Comedy                  -7.146398e+05\n",
      "Documentary             -2.489657e+06\n",
      "Family/Animated          6.915083e+06\n",
      "Biography/History       -2.216010e+06\n",
      "Romance                 -1.735648e+06\n",
      "Music/Musical           -5.334114e+05\n",
      "Likely TV                3.286012e+05\n",
      "language_English only   -6.614006e+06\n",
      "language_Foreign lang   -7.991019e+06\n",
      "country_US and others    6.171442e+06\n",
      "country_US only          1.046397e+07\n",
      "rating_PG               -2.230445e+06\n",
      "rating_PG-13             3.692300e+06\n",
      "rating_R                -4.827406e+06\n",
      "rating_Unrated          -6.450825e+06\n",
      "const                    3.298999e+07\n",
      "dtype: float64\n"
     ]
    }
   ],
   "source": [
    "Y = data['1st_year_revenue']\n",
    "X = data.drop(labels=['title', '1st_year_revenue', 'released', 'plot'], axis=1) # Drop cols that contain non-numerical data\n",
    "X = pd.get_dummies(X, columns= ['language', 'country', 'rating'], drop_first=True) # OHE categorical columns\n",
    "\n",
    "stand_X = (X - np.mean(X, axis = 0)) / np.std(X, axis = 0)\n",
    "stand_X\n",
    "\n",
    "stand_Y = Y\n",
    "\n",
    "X2 = stand_X\n",
    "Y2 = stand_Y\n",
    "\n",
    "X2 = sm.add_constant(X2, prepend=False)\n",
    "mod = sm.OLS(Y2, X2)\n",
    "res = mod.fit()\n",
    "print(res.summary())\n",
    "print(res.params)"
   ]
  },
  {
   "cell_type": "markdown",
   "id": "d4683683",
   "metadata": {},
   "source": [
    "### Data Transformations"
   ]
  },
  {
   "cell_type": "code",
   "execution_count": 9,
   "id": "32e2798b",
   "metadata": {},
   "outputs": [],
   "source": [
    "data.sort_values(by=['released'], inplace=True)\n",
    "y = data['1st_year_revenue']\n",
    "X = data.drop(columns=['title', '1st_year_revenue', 'released'], axis=1)\n",
    "# X = data.drop(['gross'], axis=1)\n",
    "\n",
    "# Shuffle to false to handle time data\n",
    "X_train, X_test, y_train, y_test = train_test_split(X, y, shuffle=False, test_size = 0.2)\n",
    "X_train, X_val, y_train, y_val = train_test_split(X_train, y_train, shuffle=False, test_size = 0.2)"
   ]
  },
  {
   "cell_type": "code",
   "execution_count": 10,
   "id": "4d806415",
   "metadata": {},
   "outputs": [],
   "source": [
    "categorical_cols = ['language', 'country', 'rating']"
   ]
  },
  {
   "cell_type": "code",
   "execution_count": 11,
   "id": "00094736",
   "metadata": {},
   "outputs": [],
   "source": [
    "# Text Preprocessor\n",
    "text_preprocesser = Pipeline(\n",
    "    steps=[\n",
    "        # Input tfidf parameters\n",
    "        ('tfidf', TfidfVectorizer(stop_words = stopwords, strip_accents = 'unicode', min_df = .001, max_df = 0.7))\n",
    "    ])"
   ]
  },
  {
   "cell_type": "code",
   "execution_count": 12,
   "id": "67e819d6",
   "metadata": {},
   "outputs": [],
   "source": [
    "# Categorical Preprocessor\n",
    "categorical_preprocessor = Pipeline(\n",
    "    steps=[\n",
    "        # Change to 'ignore' if error raised\n",
    "        (\"OHE\", OneHotEncoder(handle_unknown='error', drop='first'))\n",
    "    ])"
   ]
  },
  {
   "cell_type": "code",
   "execution_count": 13,
   "id": "70e3d4b7",
   "metadata": {},
   "outputs": [],
   "source": [
    "#Combine preprocessors\n",
    "#Commenting out TfidfVectorizer as it does not help the model\n",
    "preprocessor = ColumnTransformer(\n",
    "    transformers=[\n",
    "        ('text', text_preprocesser, 'plot'),\n",
    "        ('category', categorical_preprocessor, categorical_cols)\n",
    "    ])"
   ]
  },
  {
   "cell_type": "code",
   "execution_count": 14,
   "id": "c8f84640",
   "metadata": {},
   "outputs": [],
   "source": [
    "lr_pipe = make_pipeline(\n",
    "    preprocessor, \n",
    "    StandardScaler(with_mean=False), \n",
    "    LinearRegression()\n",
    ")\n",
    "\n",
    "lasso_pipe = make_pipeline(\n",
    "    preprocessor, \n",
    "    StandardScaler(with_mean=False), \n",
    "    Lasso()\n",
    ")\n",
    "\n",
    "ridge_pipe = make_pipeline(\n",
    "    preprocessor, \n",
    "    StandardScaler(with_mean=False), \n",
    "    Ridge()\n",
    ")\n",
    "\n",
    "rf_pipe = make_pipeline(\n",
    "    preprocessor, \n",
    "    StandardScaler(with_mean=False), \n",
    "    RandomForestRegressor(random_state = 42)\n",
    ")"
   ]
  },
  {
   "cell_type": "code",
   "execution_count": 15,
   "id": "fa0b2114",
   "metadata": {},
   "outputs": [],
   "source": [
    "## if make_pipeline doesn't work\n",
    "# pipe = Pipeline(\n",
    "#         steps= [\n",
    "#             ('preprocessor', preprocessor),\n",
    "#             ('scaler', StandardScaler(with_mean=False)),\n",
    "#             ('linearReg', LinearRegression())\n",
    "#         ])"
   ]
  },
  {
   "cell_type": "markdown",
   "id": "d6c943bf",
   "metadata": {},
   "source": [
    "### Linear Regression Base Model"
   ]
  },
  {
   "cell_type": "code",
   "execution_count": 16,
   "id": "d01cde45",
   "metadata": {},
   "outputs": [
    {
     "name": "stdout",
     "output_type": "stream",
     "text": [
      "Linear Regression Results\n",
      "Train score: 0.9999999999998147\n",
      "Val score: -2.9051529837853485\n",
      "Test score: -2.9740205199765373\n",
      "Val RMSE: 131433296.82579961\n",
      "Test RMSE: 139510389.9512548\n"
     ]
    }
   ],
   "source": [
    "lr_pipe.fit(X_train, y_train)\n",
    "train_score = lr_pipe.score(X_train, y_train)\n",
    "val_score = lr_pipe.score(X_val, y_val)\n",
    "test_score = lr_pipe.score(X_test, y_test)\n",
    "val_pred = lr_pipe.predict(X_val)\n",
    "test_pred = lr_pipe.predict(X_test)\n",
    "\n",
    "print('Linear Regression Results')\n",
    "print(\"Train score:\", train_score)\n",
    "print(\"Val score:\", val_score)\n",
    "print(\"Test score:\", test_score)\n",
    "print(\"Val RMSE:\", np.sqrt(mean_squared_error(y_val, val_pred)))\n",
    "print(\"Test RMSE:\", np.sqrt(mean_squared_error(y_test, test_pred)))"
   ]
  },
  {
   "cell_type": "markdown",
   "id": "5244e9c1",
   "metadata": {},
   "source": [
    "### Ridge Base Model"
   ]
  },
  {
   "cell_type": "code",
   "execution_count": 17,
   "id": "75095c5c",
   "metadata": {},
   "outputs": [
    {
     "name": "stdout",
     "output_type": "stream",
     "text": [
      "Ridge Regression Results\n",
      "Train score: 0.9999791053167697\n",
      "Val score: -2.8177990272180393\n",
      "Test score: -2.873622370125576\n",
      "Val RMSE: 129954974.15884143\n",
      "Test RMSE: 137736847.93542886\n"
     ]
    }
   ],
   "source": [
    "ridge_pipe.fit(X_train, y_train)\n",
    "train_score = ridge_pipe.score(X_train, y_train)\n",
    "val_score = ridge_pipe.score(X_val, y_val)\n",
    "test_score = ridge_pipe.score(X_test, y_test)\n",
    "val_pred = ridge_pipe.predict(X_val)\n",
    "test_pred = ridge_pipe.predict(X_test)\n",
    "\n",
    "print('Ridge Regression Results')\n",
    "print(\"Train score:\", train_score)\n",
    "print(\"Val score:\", val_score)\n",
    "print(\"Test score:\", test_score)\n",
    "print(\"Val RMSE:\", np.sqrt(mean_squared_error(y_val, val_pred)))\n",
    "print(\"Test RMSE:\", np.sqrt(mean_squared_error(y_test, test_pred)))"
   ]
  },
  {
   "cell_type": "markdown",
   "id": "a3bb436a",
   "metadata": {},
   "source": [
    "### Lasso Base Model"
   ]
  },
  {
   "cell_type": "code",
   "execution_count": 18,
   "id": "5ed15abb",
   "metadata": {},
   "outputs": [
    {
     "name": "stdout",
     "output_type": "stream",
     "text": [
      "Lasso Regression Results\n",
      "Train score: 0.9999982931067715\n",
      "Val score: -3.3012742917554148\n",
      "Test score: -3.252982563175923\n",
      "Val RMSE: 137938324.01868495\n",
      "Test RMSE: 144323914.9440439\n"
     ]
    }
   ],
   "source": [
    "lasso_pipe.fit(X_train, y_train)\n",
    "train_score = lasso_pipe.score(X_train, y_train)\n",
    "val_score = lasso_pipe.score(X_val, y_val)\n",
    "test_score = lasso_pipe.score(X_test, y_test)\n",
    "val_pred = lasso_pipe.predict(X_val)\n",
    "test_pred = lasso_pipe.predict(X_test)\n",
    "\n",
    "print('Lasso Regression Results')\n",
    "print(\"Train score:\", train_score)\n",
    "print(\"Val score:\", val_score)\n",
    "print(\"Test score:\", test_score)\n",
    "print(\"Val RMSE:\", np.sqrt(mean_squared_error(y_val, val_pred)))\n",
    "print(\"Test RMSE:\", np.sqrt(mean_squared_error(y_test, test_pred)))"
   ]
  },
  {
   "cell_type": "markdown",
   "id": "e0a109a7",
   "metadata": {},
   "source": [
    "### RandomForestRegressor Base Model"
   ]
  },
  {
   "cell_type": "code",
   "execution_count": 19,
   "id": "58fc2447",
   "metadata": {},
   "outputs": [
    {
     "name": "stdout",
     "output_type": "stream",
     "text": [
      "RandomForestRegressor Results\n",
      "Train score: 0.8885577873490816\n",
      "Val score: 0.1901107713750304\n",
      "Test score: 0.22173529624320232\n",
      "Val RMSE: 59854828.01090608\n",
      "Test RMSE: 61738371.15202071\n"
     ]
    }
   ],
   "source": [
    "rf_pipe.fit(X_train, y_train)\n",
    "train_score = rf_pipe.score(X_train, y_train)\n",
    "val_score = rf_pipe.score(X_val, y_val)\n",
    "test_score = rf_pipe.score(X_test, y_test)\n",
    "val_pred = rf_pipe.predict(X_val)\n",
    "test_pred = rf_pipe.predict(X_test)\n",
    "\n",
    "print('RandomForestRegressor Results')\n",
    "print(\"Train score:\", train_score)\n",
    "print(\"Val score:\", val_score)\n",
    "print(\"Test score:\", test_score)\n",
    "print(\"Val RMSE:\", np.sqrt(mean_squared_error(y_val, val_pred)))\n",
    "print(\"Test RMSE:\", np.sqrt(mean_squared_error(y_test, test_pred)))"
   ]
  },
  {
   "cell_type": "markdown",
   "id": "9170e295",
   "metadata": {},
   "source": [
    "### GridSearchCV"
   ]
  },
  {
   "cell_type": "markdown",
   "id": "0aeb93f6",
   "metadata": {},
   "source": [
    "#### Ridge"
   ]
  },
  {
   "cell_type": "code",
   "execution_count": 20,
   "id": "82acbe30",
   "metadata": {},
   "outputs": [],
   "source": [
    "# ridge_pipe.get_params().keys()"
   ]
  },
  {
   "cell_type": "code",
   "execution_count": 21,
   "id": "c87b5beb",
   "metadata": {},
   "outputs": [
    {
     "name": "stdout",
     "output_type": "stream",
     "text": [
      "Fitting 5 folds for each of 100 candidates, totalling 500 fits\n",
      "Best params: {'ridge__alpha': 7742.636826811277, 'ridge__max_iter': 1e-05}\n",
      "Internal CV score: 0.155\n",
      "Process took: 0:00:08.191983\n"
     ]
    }
   ],
   "source": [
    "param_grid = {\n",
    "    \"ridge__alpha\": np.logspace(-5, 5, 10),\n",
    "    \"ridge__max_iter\": np.logspace(-5, 5, 10)\n",
    "#     \"ridge__tol\": np.logspace(1, 5, 5)\n",
    "\n",
    "}\n",
    "\n",
    "# Start Time\n",
    "start = datetime.now()\n",
    "\n",
    "grid_search = GridSearchCV(ridge_pipe, param_grid=param_grid, n_jobs=-1, verbose = 2)\n",
    "grid_search.fit(X_train, y_train)  \n",
    "print(\"Best params:\", grid_search.best_params_)\n",
    "print(f\"Internal CV score: {grid_search.best_score_:.3f}\")\n",
    "\n",
    "# End Time\n",
    "end = datetime.now()\n",
    "print(\"Process took:\", end - start)"
   ]
  },
  {
   "cell_type": "markdown",
   "id": "49fe8552",
   "metadata": {},
   "source": [
    "#### Lasso"
   ]
  },
  {
   "cell_type": "code",
   "execution_count": 22,
   "id": "536c8148",
   "metadata": {},
   "outputs": [
    {
     "name": "stdout",
     "output_type": "stream",
     "text": [
      "Fitting 5 folds for each of 70 candidates, totalling 350 fits\n",
      "Best params: {'lasso__alpha': 0.001, 'lasso__max_iter': 1e-05}\n",
      "Internal CV score: -0.001\n",
      "Process took: 0:03:16.996417\n"
     ]
    },
    {
     "name": "stderr",
     "output_type": "stream",
     "text": [
      "C:\\Users\\admin\\anaconda3\\lib\\site-packages\\sklearn\\linear_model\\_coordinate_descent.py:513: ConvergenceWarning: Objective did not converge. You might want to increase the number of iterations. Duality gap: 1.0001, tolerance: 1197698739849187.5\n",
      "  model = cd_fast.sparse_enet_coordinate_descent(\n"
     ]
    }
   ],
   "source": [
    "param_grid = {\n",
    "    \"lasso__alpha\": np.logspace(-3, 3, 7),\n",
    "    \"lasso__max_iter\": np.logspace(-5, 5, 10)\n",
    "\n",
    "#     \"max_iter\": np.logspace(1, 5, 5)\n",
    "}\n",
    "\n",
    "# Start Time\n",
    "start = datetime.now()\n",
    "\n",
    "grid_search = GridSearchCV(lasso_pipe, param_grid=param_grid, n_jobs=-1, verbose = 2)\n",
    "grid_search.fit(X_train, y_train)  \n",
    "print(\"Best params:\", grid_search.best_params_)\n",
    "print(f\"Internal CV score: {grid_search.best_score_:.3f}\")\n",
    "\n",
    "# End Time\n",
    "end = datetime.now()\n",
    "print(\"Process took:\", end - start)"
   ]
  },
  {
   "cell_type": "markdown",
   "id": "90303ea2",
   "metadata": {},
   "source": [
    "#### RandomForestRegressor"
   ]
  },
  {
   "cell_type": "code",
   "execution_count": 23,
   "id": "5e64cf7b",
   "metadata": {},
   "outputs": [
    {
     "data": {
      "text/plain": [
       "Index(['year', 'runtime', 'plot', 'top_10_dir', 'top_50_dir', 'top_100_dir',\n",
       "       'top_10_actors', 'top_50_actors', 'top_100_actors', 'language',\n",
       "       'country', 'rating', 'Action', 'Adventure', 'Fantasy/Sci-Fi', 'Crime',\n",
       "       'Thriller/Mystery', 'Drama', 'Horror', 'Comedy', 'Documentary',\n",
       "       'Family/Animated', 'Biography/History', 'Romance', 'Music/Musical',\n",
       "       'Likely TV'],\n",
       "      dtype='object')"
      ]
     },
     "execution_count": 23,
     "metadata": {},
     "output_type": "execute_result"
    }
   ],
   "source": [
    "X_train.columns"
   ]
  },
  {
   "cell_type": "code",
   "execution_count": 24,
   "id": "c598e108",
   "metadata": {},
   "outputs": [
    {
     "data": {
      "text/plain": [
       "(2923, 26)"
      ]
     },
     "execution_count": 24,
     "metadata": {},
     "output_type": "execute_result"
    }
   ],
   "source": [
    "X_train.shape"
   ]
  },
  {
   "cell_type": "code",
<<<<<<< HEAD
   "execution_count": 22,
<<<<<<< HEAD
=======
   "execution_count": 25,
>>>>>>> f845a96 (Merge all edits)
   "id": "c99af605",
=======
   "id": "97e1987f",
>>>>>>> f38f79b (Re-serialize model based on Testing Grounds File (tfidf + RF -> Best Results))
   "metadata": {},
   "outputs": [],
   "source": [
    "# rf_pipe.get_params().keys()"
   ]
  },
  {
   "cell_type": "code",
   "execution_count": 26,
   "id": "40274b95",
   "metadata": {},
   "outputs": [
    {
     "name": "stdout",
     "output_type": "stream",
     "text": [
      "Fitting 5 folds for each of 135 candidates, totalling 675 fits\n",
      "Best params: {'randomforestregressor__max_depth': None, 'randomforestregressor__max_features': 'sqrt', 'randomforestregressor__n_estimators': 500, 'randomforestregressor__random_state': 42}\n",
      "Internal CV score: 0.198\n",
      "Process took: 0:02:56.208493\n"
     ]
    }
   ],
   "source": [
    "# Start Time\n",
    "start = datetime.now()\n",
    "\n",
    "param_grid = {\n",
    "    'randomforestregressor__n_estimators': [100,200,300,400,500],\n",
    "    'randomforestregressor__max_features': [None, 'sqrt','log2'],\n",
    "    'randomforestregressor__max_depth' : [None,1,2,3,4,5,6,7,8],\n",
    "    'randomforestregressor__random_state': [42]\n",
    "}\n",
    "\n",
    "grid_search = GridSearchCV(rf_pipe, param_grid=param_grid, n_jobs=-1, verbose = 10)\n",
    "grid_search.fit(X_train, y_train)  \n",
    "print(\"Best params:\", grid_search.best_params_)\n",
    "print(f\"Internal CV score: {grid_search.best_score_:.3f}\")\n",
    "\n",
    "# End Time\n",
    "end = datetime.now()\n",
    "print(\"Process took:\", end - start)"
   ]
  },
  {
   "cell_type": "code",
   "execution_count": 27,
   "id": "ca98af00",
   "metadata": {},
   "outputs": [],
   "source": [
    "# grid_search.cv_results_"
   ]
  },
  {
   "cell_type": "markdown",
   "id": "7c096c2c",
   "metadata": {},
   "source": [
    "### Serialize Model"
   ]
  },
  {
   "cell_type": "code",
<<<<<<< HEAD
<<<<<<< HEAD
<<<<<<< HEAD
   "execution_count": 34,
=======
   "execution_count": 25,
>>>>>>> f38f79b (Re-serialize model based on Testing Grounds File (tfidf + RF -> Best Results))
=======
   "execution_count": 35,
>>>>>>> ef3cdd8 (Fix Visualization file, fix script based on new 2022 data, repickle)
=======
   "execution_count": 33,
>>>>>>> f845a96 (Merge all edits)
   "id": "4e35450b",
   "metadata": {},
   "outputs": [],
   "source": [
    "## Tfidf with RF displays best results\n",
    "rf_pipe = make_pipeline(\n",
    "    preprocessor, \n",
    "    StandardScaler(with_mean=False), \n",
    "    RandomForestRegressor(max_depth = None, \n",
    "                          max_features = 'sqrt', \n",
    "                          n_estimators = 600, \n",
    "                          random_state = 42)\n",
    ")\n",
    "rf_pipe.fit(X_train, y_train)\n",
    "filename= 'model.pkl'\n",
    "filename2= '26model.pkl'\n",
    "# joblib.dump(rf_pipe, open(filename, 'wb'))\n",
    "pkl.dump(rf_pipe, open(filename2, 'wb'))"
   ]
  },
  {
   "cell_type": "code",
   "execution_count": 40,
   "id": "6df17f21",
   "metadata": {},
   "outputs": [],
   "source": [
    "with open('26model.pkl', 'rb') as f:\n",
    "    mod = pkl.load(f)"
   ]
  },
  {
   "cell_type": "code",
   "execution_count": 41,
   "id": "db3720e2",
   "metadata": {},
   "outputs": [
    {
     "data": {
      "text/plain": [
       "array([1.08942600e+07, 5.24816212e+07, 2.74287792e+07, 1.04036608e+06,\n",
       "       2.01711326e+07, 9.96571292e+05, 2.79381008e+07, 1.87636504e+06,\n",
       "       4.39596780e+07, 4.79515286e+07, 3.29784128e+07, 4.82244758e+06,\n",
       "       4.21039815e+07, 5.88540622e+07, 5.49292072e+06, 6.10211530e+07,\n",
       "       4.35593667e+07, 5.47807983e+06, 4.30041888e+07, 5.44570484e+07,\n",
       "       7.74746818e+06, 3.14810087e+07, 3.80691946e+06, 7.09160670e+07,\n",
       "       2.87617160e+07, 2.79681146e+07, 2.90130454e+07, 1.03313999e+07,\n",
       "       6.04793476e+07, 6.38118471e+07, 2.64654688e+07, 5.36137466e+07,\n",
       "       1.84599198e+07, 1.05850726e+07, 8.97066039e+06, 3.90203943e+07,\n",
       "       3.25689519e+07, 5.59276135e+07, 1.64706853e+07, 2.51787216e+07,\n",
       "       1.97312983e+07, 6.66651012e+07, 3.25462512e+07, 4.51176740e+07,\n",
       "       2.61122556e+07, 2.50687309e+07, 3.97472464e+07, 2.84408475e+07,\n",
       "       1.75848647e+07, 2.54430745e+07, 6.13540195e+06, 3.68593768e+07,\n",
       "       5.76454922e+07, 3.03471220e+07, 7.60916268e+06, 3.59507858e+06,\n",
       "       3.62925832e+07, 9.47253412e+05, 8.38676041e+06, 4.28162891e+07,\n",
       "       4.86906631e+07, 2.14610613e+07, 7.97028478e+06, 5.49122612e+06,\n",
       "       3.11829936e+07, 2.68206832e+07, 2.27973625e+06, 5.70066771e+07,\n",
       "       4.87746117e+07, 9.89086342e+06, 4.13241826e+07, 7.95199567e+06,\n",
       "       3.30778793e+07, 1.92088633e+07, 2.95185245e+06, 1.37671646e+07,\n",
       "       2.88766211e+07, 6.38732717e+07, 1.55840139e+07, 3.28646135e+06,\n",
       "       3.82827465e+07, 2.31474943e+07, 2.28606945e+07, 1.92579462e+07,\n",
       "       4.00662672e+07, 2.31943861e+07, 5.37598945e+07, 1.37472448e+07,\n",
       "       4.31466020e+07, 7.04455798e+07, 3.10141680e+07, 2.02286107e+07,\n",
       "       2.88629147e+07, 2.53462238e+07, 1.60054010e+07, 4.03831458e+06,\n",
       "       3.86536225e+07, 1.36754749e+07, 1.98805045e+07, 1.36123153e+07,\n",
       "       1.52022651e+07, 8.91911163e+07, 5.11210138e+07, 4.93001556e+06,\n",
       "       2.24047469e+07, 5.75091252e+07, 1.77170228e+07, 1.12307720e+07,\n",
       "       4.22644004e+07, 1.56295603e+07, 7.26314447e+06, 2.75108659e+06,\n",
       "       2.46727287e+07, 7.16124825e+07, 2.87443808e+07, 2.27560633e+06,\n",
       "       2.77717416e+07, 4.27491728e+07, 4.00917621e+07, 2.01890957e+07,\n",
       "       6.78226583e+07, 2.13460319e+07, 1.10203048e+08, 9.98513519e+06,\n",
       "       1.03886863e+06, 6.53827435e+07, 6.46614384e+07, 7.73388663e+07,\n",
       "       2.38889769e+07, 7.59643628e+06, 1.12172741e+07, 6.28893628e+06,\n",
       "       2.29885751e+07, 2.78661641e+07, 2.16240168e+07, 8.74044687e+06,\n",
       "       2.68839296e+07, 6.15688355e+07, 5.10870802e+06, 1.91996470e+07,\n",
       "       2.47761616e+06, 3.17569850e+07, 8.71161061e+07, 4.20568687e+06,\n",
       "       1.01483355e+07, 4.05198410e+07, 5.55791927e+07, 1.77742544e+07,\n",
       "       2.69861194e+07, 4.17693469e+07, 4.60981419e+07, 5.20157322e+07,\n",
       "       2.92655323e+06, 5.65886215e+07, 1.35010204e+07, 1.66884156e+06,\n",
       "       2.63548574e+07, 5.12134659e+07, 2.43495464e+06, 1.10443757e+07,\n",
       "       2.46699871e+07, 6.09323954e+06, 6.46169217e+07, 3.75415454e+06,\n",
       "       1.23148842e+07, 1.91297330e+06, 1.79005374e+07, 2.94750048e+07,\n",
       "       3.29342352e+07, 2.70298068e+07, 6.63147195e+06, 9.44133179e+06,\n",
       "       4.82705360e+07, 2.60575618e+07, 4.39439288e+07, 5.33481498e+07,\n",
       "       1.63033728e+07, 2.09920575e+07, 2.67702998e+07, 4.22356130e+07,\n",
       "       6.45870716e+07, 4.24550781e+06, 2.08710956e+07, 3.61225216e+07,\n",
       "       3.30288161e+07, 1.65961467e+07, 4.85729692e+07, 6.35343236e+07,\n",
       "       1.23095559e+07, 2.84663385e+06, 5.56918787e+06, 2.89742255e+07,\n",
       "       5.89385511e+07, 4.20095151e+07, 3.94620232e+06, 3.51035728e+07,\n",
       "       8.04758643e+05, 4.03233949e+07, 2.33134135e+07, 8.00456456e+06,\n",
       "       2.87839197e+06, 2.12228753e+07, 3.59251303e+07, 3.50141588e+07,\n",
       "       1.85015551e+07, 4.17516137e+07, 3.94965314e+07, 2.87938050e+07,\n",
       "       6.50264153e+07, 3.10864329e+07, 1.57949541e+07, 2.29181016e+07,\n",
       "       8.30396528e+05, 7.41065514e+06, 4.92923083e+06, 5.55069280e+06,\n",
       "       3.25473917e+07, 1.85145019e+07, 1.66581108e+06, 4.64315618e+07,\n",
       "       1.34298828e+07, 7.83713504e+06, 2.57607742e+07, 2.75386314e+07,\n",
       "       6.23087633e+06, 3.13734923e+07, 2.55436709e+07, 3.55919177e+07,\n",
       "       1.33826436e+07, 4.05990532e+07, 2.58033556e+07, 1.90434495e+07,\n",
       "       2.99683917e+07, 2.08102593e+07, 4.46582459e+06, 9.14595413e+07,\n",
       "       5.39399202e+06, 1.67001331e+07, 3.78472749e+07, 1.20866726e+07,\n",
       "       1.82916874e+07, 1.39111970e+07, 2.73492925e+07, 1.95430096e+07,\n",
       "       2.35841534e+07, 1.87391688e+06, 7.80052019e+07, 7.84249370e+06,\n",
       "       3.04017616e+07, 3.43941332e+07, 2.30117478e+07, 2.60082658e+07,\n",
       "       5.50409235e+07, 1.32169152e+07, 4.45883662e+07, 4.36941307e+07,\n",
       "       4.13608078e+06, 5.76557414e+07, 2.34962601e+07, 7.53538949e+07,\n",
       "       4.38053312e+07, 2.66658948e+07, 4.28969093e+06, 4.15707321e+06,\n",
       "       1.07065559e+07, 4.04896943e+06, 4.39509595e+06, 3.52203537e+06,\n",
       "       9.70955597e+06, 3.14654333e+07, 1.86165898e+07, 1.49667148e+07,\n",
       "       2.12199831e+07, 5.87983919e+07, 3.07556525e+06, 2.78922747e+06,\n",
       "       2.02539074e+07, 3.67046233e+07, 2.96771193e+07, 2.98103064e+07,\n",
       "       1.64977761e+07, 6.57799827e+06, 2.13099904e+07, 4.19053684e+06,\n",
       "       3.48640026e+07, 1.19327673e+06, 2.38074181e+06, 1.41383663e+07,\n",
       "       5.52721262e+06, 3.49482688e+07, 7.86331021e+06, 9.63559810e+07,\n",
       "       4.49522054e+07, 4.69241666e+07, 3.90292427e+07, 6.82802554e+07,\n",
       "       7.19912425e+05, 2.85551483e+07, 5.64274110e+07, 2.33313210e+07,\n",
       "       1.17883391e+07, 1.44402739e+07, 6.14572491e+07, 1.82353461e+06,\n",
       "       3.51989713e+07, 3.81856544e+07, 1.86602814e+07, 1.29896155e+07,\n",
       "       1.26053429e+07, 6.39688827e+07, 3.63142640e+07, 3.07637441e+07,\n",
       "       1.50265988e+06, 4.67555911e+07, 1.14825677e+05, 6.46897587e+05,\n",
       "       3.21908988e+07, 3.40880310e+07, 3.12038074e+06, 3.69598294e+07,\n",
       "       2.31224196e+06, 3.05356266e+07, 2.64907073e+07, 4.21822244e+07,\n",
       "       6.48880301e+06, 1.30714152e+07, 4.42331966e+07, 2.76657676e+07,\n",
       "       5.01738347e+06, 5.57034098e+07, 2.80816792e+06, 1.18732416e+07,\n",
       "       3.03411328e+07, 7.16292468e+06, 2.15018839e+07, 3.98325539e+06,\n",
       "       2.63630668e+07, 3.31648744e+07, 4.95341776e+06, 4.79214065e+07,\n",
       "       1.74925566e+06, 8.91133000e+05, 2.12878569e+07, 1.45117692e+06,\n",
       "       3.49949428e+07, 2.26355006e+06, 3.92125062e+06, 1.09575727e+06,\n",
       "       1.28435087e+08, 6.11725962e+07, 3.18192346e+07, 5.72787684e+07,\n",
       "       1.05284582e+07, 6.59522197e+06, 4.68689523e+07, 5.59048593e+07,\n",
       "       2.79638591e+06, 1.94489687e+07, 5.59715855e+06, 6.70751405e+06,\n",
       "       3.27065752e+07, 1.74549208e+07, 2.53549352e+07, 2.06623584e+07,\n",
       "       3.57627443e+07, 2.98301062e+07, 7.30120625e+07, 2.59770792e+07,\n",
       "       2.64500400e+07, 3.49951155e+07, 4.27591800e+07, 4.86339280e+05,\n",
       "       3.12584905e+07, 3.02653648e+06, 3.78827529e+07, 3.36465294e+07,\n",
       "       2.39077017e+07, 1.77763124e+06, 6.21584250e+06, 3.66416541e+07,\n",
       "       3.43584585e+07, 3.51380668e+07, 6.31879850e+06, 7.65313032e+06,\n",
       "       1.26139305e+07, 4.62108676e+06, 6.26651164e+07, 2.78461278e+07,\n",
       "       3.40403754e+06, 3.20013578e+07, 4.68494230e+07, 3.60372666e+07,\n",
       "       1.71704054e+07, 8.41868119e+06, 2.48352041e+07, 1.42068597e+07,\n",
       "       1.14939492e+07, 4.45272890e+07, 3.66957345e+06, 5.02042145e+07,\n",
       "       5.81613566e+07, 5.28674393e+07, 1.30008042e+07, 1.83681754e+07,\n",
       "       2.62087011e+07, 2.45569663e+06, 2.46846421e+06, 3.61307462e+07,\n",
       "       8.25748043e+06, 3.05075989e+06, 4.42544341e+06, 5.76375251e+07,\n",
       "       4.31479210e+07, 3.65928358e+06, 4.44077167e+06, 8.75309678e+05,\n",
       "       8.95133372e+07, 3.51379214e+07, 2.44807006e+06, 2.74242841e+07,\n",
       "       3.66840528e+06, 5.84123460e+06, 3.41205044e+07, 1.68377326e+07,\n",
       "       1.43542728e+07, 7.20292554e+06, 4.65855325e+07, 8.60140660e+07,\n",
       "       1.80436002e+07, 8.92794546e+07, 6.96087183e+05, 7.74254300e+06,\n",
       "       2.09032492e+06, 1.26188328e+07, 2.58237179e+07, 1.56297237e+07,\n",
       "       2.57165933e+07, 4.27089618e+06, 2.86394865e+07, 3.72018760e+07,\n",
       "       2.43541225e+07, 3.91451642e+07, 2.54538496e+07, 5.08014929e+06,\n",
       "       1.91927764e+07, 1.11776258e+08, 2.54307748e+07, 5.08451193e+06,\n",
       "       3.84497601e+07, 3.80970143e+07, 2.19159335e+07, 2.58959498e+06,\n",
       "       2.84136303e+07, 5.04377566e+06, 6.30044825e+06, 6.60155479e+07,\n",
       "       1.47179300e+07, 1.26310456e+07, 3.66961643e+07, 2.16520094e+07,\n",
       "       3.36870924e+07, 5.43134358e+06, 2.99223464e+06, 4.65426110e+07,\n",
       "       3.04252163e+07, 2.38708782e+07, 3.71619224e+07, 3.17046810e+06,\n",
       "       3.17967284e+06, 2.26584847e+07, 6.16679845e+06, 4.89631169e+06,\n",
       "       6.14165582e+07, 1.98688131e+07, 2.85257362e+07, 3.93665562e+07,\n",
       "       5.16316034e+07, 5.17635450e+07, 2.55758211e+06, 2.83667522e+07,\n",
       "       4.96230389e+06, 5.26764284e+07, 3.19365952e+07, 1.12254148e+07,\n",
       "       1.10671546e+07, 3.44445752e+07, 2.39189936e+06, 4.33462995e+06,\n",
       "       8.62772382e+06, 3.55254396e+07, 2.53001953e+07, 1.84155128e+07,\n",
       "       3.09153919e+07, 2.29156142e+07, 4.80968669e+06, 2.20782587e+07,\n",
       "       2.32656730e+07, 3.56837709e+07, 9.26353473e+06, 7.40652588e+06,\n",
       "       2.22951053e+07, 1.49146666e+07, 8.63123962e+06, 1.10358011e+07,\n",
       "       1.67728531e+07, 2.48603877e+05, 2.52976386e+07, 2.27266941e+07,\n",
       "       1.89254411e+06, 7.89528451e+07, 1.42885706e+06, 1.32883204e+07,\n",
       "       8.21820478e+07, 1.31145197e+07, 7.14875583e+06, 6.22378159e+06,\n",
       "       7.53361036e+06, 5.01704002e+07, 1.81200627e+07, 1.80354818e+06,\n",
       "       3.41431843e+07, 1.05154108e+07, 3.03041013e+07, 1.79199045e+07,\n",
       "       1.90229475e+07, 5.78808772e+06, 6.33340411e+06, 2.11851713e+07,\n",
       "       4.22063272e+05, 1.42693686e+07, 3.62925980e+07, 1.66591133e+07,\n",
       "       1.27375685e+07, 2.91043781e+06, 7.09111383e+06, 4.11475615e+07,\n",
       "       1.86569870e+06, 5.02365465e+07, 1.50255917e+06, 2.80986221e+07,\n",
       "       2.71492641e+07, 4.50869359e+06, 4.91266628e+07, 2.53878944e+07,\n",
       "       3.61902344e+06, 8.29368130e+07, 1.27370161e+07, 1.95015262e+07,\n",
       "       2.76414775e+06, 4.90496386e+07, 2.57076560e+07, 6.50111276e+06,\n",
       "       5.11192745e+07, 2.49808226e+07, 5.18779658e+06, 3.99300465e+07,\n",
       "       4.41867868e+07, 1.77737684e+07, 6.17866367e+07, 4.22580043e+07,\n",
       "       6.33119754e+06, 1.19913731e+06, 2.01105255e+07, 7.26217131e+06,\n",
       "       7.71153552e+07, 3.91068871e+07, 2.63620293e+06, 3.87779219e+07,\n",
       "       2.33595991e+07, 3.15469027e+06, 3.83758671e+06, 6.70367179e+06,\n",
       "       3.31701898e+07, 2.48539366e+06, 2.79792975e+07, 3.90722801e+07,\n",
       "       3.41662776e+07, 2.33701119e+07, 1.19330832e+07, 3.38373253e+06,\n",
       "       5.85444065e+07, 3.30800585e+07, 6.48409289e+07, 2.50651276e+07,\n",
       "       3.59373144e+07, 5.70859917e+07, 6.90549497e+06, 1.79479922e+06,\n",
       "       4.27674411e+07, 2.91325098e+07, 1.73621394e+07, 4.71683761e+07,\n",
       "       5.84001689e+06, 5.97387751e+07, 5.18852049e+07, 3.20281717e+07,\n",
       "       1.99595038e+07, 4.49930371e+07, 1.03863203e+07, 8.37407772e+05,\n",
       "       2.37614758e+06, 2.03733667e+06, 6.86027144e+07, 3.83335494e+07,\n",
       "       2.63422364e+06, 1.08033265e+06, 1.50075552e+07, 4.50823060e+06,\n",
       "       1.08702444e+06, 6.57687808e+06, 1.16721445e+06, 1.82586575e+07,\n",
       "       2.44169706e+07, 3.35865940e+07, 3.36934040e+07, 4.66317144e+07,\n",
       "       5.72307990e+07, 3.65379164e+07, 3.23101717e+07, 3.02745939e+06,\n",
       "       1.40622411e+07, 1.94638951e+07, 1.91511326e+07, 5.35938705e+07,\n",
       "       2.49660570e+07, 3.00994591e+07, 4.50568729e+06, 2.22444498e+07,\n",
       "       5.20200421e+06, 2.82684431e+07, 9.25623845e+06, 4.21474835e+07,\n",
       "       1.94844890e+06, 2.19721423e+07, 6.14686618e+07, 1.80618761e+07,\n",
       "       1.98899359e+07, 7.11832941e+06, 4.06474315e+07, 3.01297834e+07,\n",
       "       2.85167810e+06, 2.37108156e+07, 1.70901200e+07, 8.72303119e+06,\n",
       "       2.07518038e+07, 5.00329805e+07, 5.58008573e+06, 4.06865395e+07,\n",
       "       1.13130477e+07, 1.73018467e+07, 2.17151829e+07, 2.97670933e+07,\n",
       "       1.54424968e+07, 4.43263013e+07, 3.22311154e+07, 3.82759211e+06,\n",
       "       3.55771124e+06, 1.83432904e+07, 2.08474324e+07, 5.68035364e+07,\n",
       "       4.52562441e+06, 1.81829013e+07, 2.91797002e+07, 4.65316252e+06,\n",
       "       1.14301354e+07, 8.13067146e+06, 3.42470508e+07, 4.22055657e+07,\n",
       "       5.47230149e+07, 1.60041232e+07, 1.11813045e+07, 5.86353394e+06,\n",
       "       7.71139858e+07, 4.67724103e+07, 4.11547015e+07, 6.28623578e+06,\n",
       "       3.64063900e+06, 2.02825174e+07, 2.76975538e+07, 2.36435854e+07,\n",
       "       4.98939577e+07, 2.33273701e+07, 1.53208742e+07, 3.05003482e+07,\n",
       "       2.18425637e+07, 2.21561434e+07, 3.37885390e+07, 3.17975857e+07,\n",
       "       2.59519927e+07, 3.27960862e+07, 2.51036730e+07, 1.20619292e+07,\n",
       "       5.90193030e+06, 1.90273688e+07, 2.39397005e+07, 4.20279564e+07,\n",
       "       6.61584996e+07, 5.39125275e+07, 3.32167886e+07, 6.11161014e+07,\n",
       "       1.76890648e+07, 4.71218422e+06, 1.39370289e+07, 1.63067985e+07,\n",
       "       4.58227802e+07, 4.52263173e+07, 2.50575684e+07, 6.06513354e+06,\n",
       "       4.76820772e+06, 2.52325266e+07, 4.39156732e+07, 2.78578954e+07,\n",
       "       6.27017048e+07, 3.02758016e+07, 1.32918558e+07, 1.32172425e+07,\n",
       "       4.54166982e+07, 3.82929489e+07, 6.69826937e+07, 8.89218798e+06,\n",
       "       1.06603107e+07, 4.16644699e+07, 2.99478902e+07, 1.78534006e+06,\n",
       "       3.90932677e+07, 8.03635007e+06, 1.93324263e+07, 6.75649536e+06,\n",
       "       6.66964155e+06, 3.79501186e+07, 1.49515100e+07, 1.66481339e+06,\n",
       "       3.86247004e+07, 2.88972723e+05, 2.30013259e+07, 3.68413536e+07,\n",
       "       1.78532627e+07, 2.95008816e+07, 4.70491533e+07, 2.91863066e+07,\n",
       "       2.12520800e+07, 2.31633296e+07, 1.08930373e+07, 3.44697056e+06,\n",
       "       9.49173532e+06, 1.00037126e+07, 2.57313419e+07, 1.49311714e+07,\n",
       "       7.57260209e+07, 1.47860914e+07, 2.66198002e+06, 2.86698502e+07,\n",
       "       3.23190504e+07, 3.55991689e+07, 2.32098748e+07, 2.65946547e+07,\n",
       "       5.39865027e+07, 7.37020929e+07, 1.57231604e+07, 1.65296854e+07,\n",
       "       1.17123379e+07, 9.33054653e+06, 7.69463359e+06, 2.25942854e+07,\n",
       "       3.46908395e+07, 3.17302644e+07, 3.14943306e+07, 3.31655437e+07,\n",
       "       1.69453844e+07, 9.88229433e+07, 2.62926256e+06, 3.84166078e+07,\n",
       "       6.68916308e+07, 1.92626661e+07, 6.78800234e+06, 2.96821816e+07,\n",
       "       3.58145312e+06, 3.58777295e+07, 5.06475622e+07, 2.76649812e+07,\n",
       "       1.51113312e+07, 2.81069820e+06, 2.59609966e+07, 1.70607822e+07,\n",
       "       5.76075234e+07, 1.58613951e+07, 2.03129146e+07, 4.87723554e+06,\n",
       "       3.22957759e+07, 2.16218475e+07, 4.11109090e+07, 5.06890583e+07,\n",
       "       5.36913492e+07, 7.77277693e+06, 2.19800526e+07, 7.09707913e+06,\n",
       "       1.24825219e+07, 1.18468396e+07, 2.14752300e+07, 5.58912285e+06,\n",
       "       6.06721436e+07, 2.59071249e+07, 2.12872186e+07, 1.25964203e+07,\n",
       "       1.32444879e+07, 4.68747706e+07, 1.74608670e+07, 1.18744518e+07,\n",
       "       7.43254716e+07, 2.17491720e+07, 2.49791151e+07, 2.51046656e+07,\n",
       "       5.45337006e+07, 1.42569828e+07, 9.29682558e+05, 1.24999619e+06,\n",
       "       1.65376318e+07, 7.23939570e+07, 3.77465635e+07, 1.66991860e+06,\n",
       "       8.00922345e+06, 7.00217904e+07, 8.25260617e+06, 3.44491668e+07,\n",
       "       6.20347266e+06, 1.47903393e+06, 5.46991265e+07, 3.70559272e+07,\n",
       "       1.19991673e+07, 4.13393552e+07, 3.27947856e+06, 2.37747699e+07,\n",
       "       1.85701988e+06, 4.95013008e+07, 2.59023461e+07, 2.68961705e+07,\n",
       "       5.31529244e+06, 3.00974755e+07, 7.14141911e+07, 1.58795471e+07,\n",
       "       3.87455593e+07, 4.63530461e+07, 5.65468974e+07, 3.65371049e+06,\n",
       "       3.45736638e+07, 5.09375960e+07, 1.33387499e+07, 4.38443794e+07,\n",
       "       8.24034662e+06, 1.25863187e+07, 1.14586611e+07, 1.92543213e+07,\n",
       "       2.93988431e+07, 4.23272924e+07, 1.27263800e+07, 2.47757408e+07,\n",
       "       6.42114379e+07, 2.50173833e+07, 1.55357015e+06, 4.81270776e+07,\n",
       "       2.88247710e+07, 3.92647510e+07, 2.65436979e+07, 2.69261019e+06,\n",
       "       2.72059978e+07, 1.84912212e+07, 2.72797802e+07, 3.16721668e+07,\n",
       "       5.59029828e+06, 3.15616225e+07, 2.61789391e+07, 7.20282090e+07,\n",
       "       2.27455249e+07, 2.77379347e+07, 3.02604326e+07, 2.01692777e+07,\n",
       "       3.63021387e+07, 8.21804651e+07, 7.54693467e+06, 4.60681913e+07,\n",
       "       9.13668951e+07, 1.03601938e+07, 2.46302275e+07, 6.27616010e+07,\n",
       "       4.72018840e+07, 1.32232829e+07, 2.18138043e+07, 1.67387365e+07,\n",
       "       3.62054455e+07, 2.77794814e+07, 9.11354454e+07, 1.54186171e+07,\n",
       "       3.30342524e+07, 3.05981997e+07, 3.84195975e+06, 3.14783547e+07,\n",
       "       5.95268699e+07, 4.63429408e+07, 1.31366412e+06, 3.25513035e+07,\n",
       "       2.50067850e+04, 3.53815032e+06, 2.24179137e+07, 1.16309579e+06,\n",
       "       1.16692060e+07, 2.90025429e+07, 2.77079907e+06, 8.64797596e+06,\n",
       "       3.49284298e+06, 4.48704909e+07, 3.48022347e+07, 1.26467514e+08,\n",
       "       8.40125448e+07, 3.90555521e+07])"
      ]
     },
     "execution_count": 41,
     "metadata": {},
     "output_type": "execute_result"
    }
   ],
   "source": [
    "mod.predict(X_test)"
   ]
  },
  {
   "cell_type": "markdown",
   "id": "d63c3db8",
   "metadata": {},
   "source": [
    "### Final Model"
   ]
  },
  {
   "cell_type": "code",
   "execution_count": 42,
   "id": "fffdc2a8",
   "metadata": {},
   "outputs": [
    {
     "data": {
      "text/html": [
       "<div>\n",
       "<style scoped>\n",
       "    .dataframe tbody tr th:only-of-type {\n",
       "        vertical-align: middle;\n",
       "    }\n",
       "\n",
       "    .dataframe tbody tr th {\n",
       "        vertical-align: top;\n",
       "    }\n",
       "\n",
       "    .dataframe thead th {\n",
       "        text-align: right;\n",
       "    }\n",
       "</style>\n",
       "<table border=\"1\" class=\"dataframe\">\n",
       "  <thead>\n",
       "    <tr style=\"text-align: right;\">\n",
       "      <th></th>\n",
       "      <th>year</th>\n",
       "      <th>runtime</th>\n",
       "      <th>plot</th>\n",
       "      <th>top_10_dir</th>\n",
       "      <th>top_50_dir</th>\n",
       "      <th>top_100_dir</th>\n",
       "      <th>top_10_actors</th>\n",
       "      <th>top_50_actors</th>\n",
       "      <th>top_100_actors</th>\n",
       "      <th>language</th>\n",
       "      <th>country</th>\n",
       "      <th>rating</th>\n",
       "      <th>Action</th>\n",
       "      <th>Adventure</th>\n",
       "      <th>Fantasy/Sci-Fi</th>\n",
       "      <th>Crime</th>\n",
       "      <th>Thriller/Mystery</th>\n",
       "      <th>Drama</th>\n",
       "      <th>Horror</th>\n",
       "      <th>Comedy</th>\n",
       "      <th>Documentary</th>\n",
       "      <th>Family/Animated</th>\n",
       "      <th>Biography/History</th>\n",
       "      <th>Romance</th>\n",
       "      <th>Music/Musical</th>\n",
       "      <th>Likely TV</th>\n",
       "    </tr>\n",
       "  </thead>\n",
       "  <tbody>\n",
       "    <tr>\n",
       "      <th>362</th>\n",
       "      <td>1927</td>\n",
       "      <td>153.0</td>\n",
       "      <td>In a futuristic city sharply divided between t...</td>\n",
       "      <td>0.0</td>\n",
       "      <td>0.0</td>\n",
       "      <td>0.0</td>\n",
       "      <td>0.0</td>\n",
       "      <td>0.0</td>\n",
       "      <td>0.0</td>\n",
       "      <td>Foreign lang</td>\n",
       "      <td>Foreign country</td>\n",
       "      <td>Unrated</td>\n",
       "      <td>0.0</td>\n",
       "      <td>0.0</td>\n",
       "      <td>1.0</td>\n",
       "      <td>0.0</td>\n",
       "      <td>0.0</td>\n",
       "      <td>1.0</td>\n",
       "      <td>0.0</td>\n",
       "      <td>0.0</td>\n",
       "      <td>0.0</td>\n",
       "      <td>0.0</td>\n",
       "      <td>0.0</td>\n",
       "      <td>0.0</td>\n",
       "      <td>0.0</td>\n",
       "      <td>0.0</td>\n",
       "    </tr>\n",
       "    <tr>\n",
       "      <th>473</th>\n",
       "      <td>1952</td>\n",
       "      <td>143.0</td>\n",
       "      <td>A bureaucrat tries to find meaning in his life...</td>\n",
       "      <td>0.0</td>\n",
       "      <td>0.0</td>\n",
       "      <td>0.0</td>\n",
       "      <td>0.0</td>\n",
       "      <td>0.0</td>\n",
       "      <td>0.0</td>\n",
       "      <td>Foreign lang</td>\n",
       "      <td>Foreign country</td>\n",
       "      <td>Unrated</td>\n",
       "      <td>0.0</td>\n",
       "      <td>0.0</td>\n",
       "      <td>0.0</td>\n",
       "      <td>0.0</td>\n",
       "      <td>0.0</td>\n",
       "      <td>1.0</td>\n",
       "      <td>0.0</td>\n",
       "      <td>0.0</td>\n",
       "      <td>0.0</td>\n",
       "      <td>0.0</td>\n",
       "      <td>0.0</td>\n",
       "      <td>0.0</td>\n",
       "      <td>0.0</td>\n",
       "      <td>0.0</td>\n",
       "    </tr>\n",
       "    <tr>\n",
       "      <th>4129</th>\n",
       "      <td>1952</td>\n",
       "      <td>83.0</td>\n",
       "      <td>During a day of their honeymoon, newlyweds are...</td>\n",
       "      <td>0.0</td>\n",
       "      <td>0.0</td>\n",
       "      <td>0.0</td>\n",
       "      <td>0.0</td>\n",
       "      <td>0.0</td>\n",
       "      <td>0.0</td>\n",
       "      <td>Foreign lang</td>\n",
       "      <td>Foreign country</td>\n",
       "      <td>Unrated</td>\n",
       "      <td>0.0</td>\n",
       "      <td>0.0</td>\n",
       "      <td>0.0</td>\n",
       "      <td>0.0</td>\n",
       "      <td>0.0</td>\n",
       "      <td>1.0</td>\n",
       "      <td>0.0</td>\n",
       "      <td>1.0</td>\n",
       "      <td>0.0</td>\n",
       "      <td>0.0</td>\n",
       "      <td>0.0</td>\n",
       "      <td>0.0</td>\n",
       "      <td>0.0</td>\n",
       "      <td>0.0</td>\n",
       "    </tr>\n",
       "    <tr>\n",
       "      <th>4103</th>\n",
       "      <td>1957</td>\n",
       "      <td>95.0</td>\n",
       "      <td>Veronica plans a rendezvous with her lover, Bo...</td>\n",
       "      <td>0.0</td>\n",
       "      <td>0.0</td>\n",
       "      <td>0.0</td>\n",
       "      <td>0.0</td>\n",
       "      <td>0.0</td>\n",
       "      <td>0.0</td>\n",
       "      <td>Foreign lang</td>\n",
       "      <td>Foreign country</td>\n",
       "      <td>Unrated</td>\n",
       "      <td>0.0</td>\n",
       "      <td>0.0</td>\n",
       "      <td>0.0</td>\n",
       "      <td>0.0</td>\n",
       "      <td>0.0</td>\n",
       "      <td>1.0</td>\n",
       "      <td>0.0</td>\n",
       "      <td>0.0</td>\n",
       "      <td>0.0</td>\n",
       "      <td>0.0</td>\n",
       "      <td>0.0</td>\n",
       "      <td>1.0</td>\n",
       "      <td>0.0</td>\n",
       "      <td>0.0</td>\n",
       "    </tr>\n",
       "    <tr>\n",
       "      <th>613</th>\n",
       "      <td>1962</td>\n",
       "      <td>130.0</td>\n",
       "      <td>A family takes a long delayed trip to Europe a...</td>\n",
       "      <td>0.0</td>\n",
       "      <td>0.0</td>\n",
       "      <td>0.0</td>\n",
       "      <td>0.0</td>\n",
       "      <td>0.0</td>\n",
       "      <td>0.0</td>\n",
       "      <td>English only</td>\n",
       "      <td>US only</td>\n",
       "      <td>Unrated</td>\n",
       "      <td>0.0</td>\n",
       "      <td>1.0</td>\n",
       "      <td>0.0</td>\n",
       "      <td>0.0</td>\n",
       "      <td>0.0</td>\n",
       "      <td>1.0</td>\n",
       "      <td>0.0</td>\n",
       "      <td>1.0</td>\n",
       "      <td>0.0</td>\n",
       "      <td>0.0</td>\n",
       "      <td>0.0</td>\n",
       "      <td>0.0</td>\n",
       "      <td>0.0</td>\n",
       "      <td>0.0</td>\n",
       "    </tr>\n",
       "  </tbody>\n",
       "</table>\n",
       "</div>"
      ],
      "text/plain": [
       "      year  runtime                                               plot  \\\n",
       "362   1927    153.0  In a futuristic city sharply divided between t...   \n",
       "473   1952    143.0  A bureaucrat tries to find meaning in his life...   \n",
       "4129  1952     83.0  During a day of their honeymoon, newlyweds are...   \n",
       "4103  1957     95.0  Veronica plans a rendezvous with her lover, Bo...   \n",
       "613   1962    130.0  A family takes a long delayed trip to Europe a...   \n",
       "\n",
       "      top_10_dir  top_50_dir  top_100_dir  top_10_actors  top_50_actors  \\\n",
       "362          0.0         0.0          0.0            0.0            0.0   \n",
       "473          0.0         0.0          0.0            0.0            0.0   \n",
       "4129         0.0         0.0          0.0            0.0            0.0   \n",
       "4103         0.0         0.0          0.0            0.0            0.0   \n",
       "613          0.0         0.0          0.0            0.0            0.0   \n",
       "\n",
       "      top_100_actors      language          country   rating  Action  \\\n",
       "362              0.0  Foreign lang  Foreign country  Unrated     0.0   \n",
       "473              0.0  Foreign lang  Foreign country  Unrated     0.0   \n",
       "4129             0.0  Foreign lang  Foreign country  Unrated     0.0   \n",
       "4103             0.0  Foreign lang  Foreign country  Unrated     0.0   \n",
       "613              0.0  English only          US only  Unrated     0.0   \n",
       "\n",
       "      Adventure  Fantasy/Sci-Fi  Crime  Thriller/Mystery  Drama  Horror  \\\n",
       "362         0.0             1.0    0.0               0.0    1.0     0.0   \n",
       "473         0.0             0.0    0.0               0.0    1.0     0.0   \n",
       "4129        0.0             0.0    0.0               0.0    1.0     0.0   \n",
       "4103        0.0             0.0    0.0               0.0    1.0     0.0   \n",
       "613         1.0             0.0    0.0               0.0    1.0     0.0   \n",
       "\n",
       "      Comedy  Documentary  Family/Animated  Biography/History  Romance  \\\n",
       "362      0.0          0.0              0.0                0.0      0.0   \n",
       "473      0.0          0.0              0.0                0.0      0.0   \n",
       "4129     1.0          0.0              0.0                0.0      0.0   \n",
       "4103     0.0          0.0              0.0                0.0      1.0   \n",
       "613      1.0          0.0              0.0                0.0      0.0   \n",
       "\n",
       "      Music/Musical  Likely TV  \n",
       "362             0.0        0.0  \n",
       "473             0.0        0.0  \n",
       "4129            0.0        0.0  \n",
       "4103            0.0        0.0  \n",
       "613             0.0        0.0  "
      ]
     },
     "execution_count": 42,
     "metadata": {},
     "output_type": "execute_result"
    }
   ],
   "source": [
    "X.head()"
   ]
  },
  {
   "cell_type": "code",
   "execution_count": 29,
   "id": "a1c077d7",
   "metadata": {},
   "outputs": [
    {
     "name": "stdout",
     "output_type": "stream",
     "text": [
      "RandomForestRegressor Results\n",
      "Train score: 0.8921686306145462\n",
      "Val score: 0.19171336444994835\n",
      "Test score: 0.18177204589537665\n",
      "Val RMSE: 59795578.90059872\n",
      "Test RMSE: 63303636.125264354\n"
     ]
    }
   ],
   "source": [
    "rf_pipe.fit(X_train, y_train)\n",
    "train_score = rf_pipe.score(X_train, y_train)\n",
    "val_score = rf_pipe.score(X_val, y_val)\n",
    "test_score = rf_pipe.score(X_test, y_test)\n",
    "val_pred = rf_pipe.predict(X_val)\n",
    "test_pred = rf_pipe.predict(X_test)\n",
    "\n",
    "print('RandomForestRegressor Results')\n",
    "print(\"Train score:\", train_score)\n",
    "print(\"Val score:\", val_score)\n",
    "print(\"Test score:\", test_score)\n",
    "print(\"Val RMSE:\", np.sqrt(mean_squared_error(y_val, val_pred)))\n",
    "print(\"Test RMSE:\", np.sqrt(mean_squared_error(y_test, test_pred)))"
   ]
  },
  {
   "cell_type": "markdown",
   "id": "9080740e",
   "metadata": {},
   "source": [
    "### Final Model"
   ]
  },
  {
   "cell_type": "code",
   "execution_count": 30,
   "id": "662e0eec",
   "metadata": {},
   "outputs": [],
   "source": [
    "rf_pipe = make_pipeline(\n",
    "    preprocessor, \n",
    "    StandardScaler(with_mean=False), \n",
    "    RandomForestRegressor(max_depth = None, \n",
    "                          max_features = 'sqrt', \n",
    "                          n_estimators = 600, \n",
    "                          random_state = 42)\n",
    ")"
   ]
  },
  {
   "cell_type": "code",
   "execution_count": 31,
   "id": "a1c077d7",
   "metadata": {},
   "outputs": [
    {
     "name": "stdout",
     "output_type": "stream",
     "text": [
      "RandomForestRegressor Results\n",
      "Train score: 0.8921686306145462\n",
      "Val score: 0.19171336444994835\n",
      "Test score: 0.18177204589537665\n",
      "Val RMSE: 59795578.90059872\n",
      "Test RMSE: 63303636.125264354\n"
     ]
    }
   ],
   "source": [
    "rf_pipe.fit(X_train, y_train)\n",
    "train_score = rf_pipe.score(X_train, y_train)\n",
    "val_score = rf_pipe.score(X_val, y_val)\n",
    "test_score = rf_pipe.score(X_test, y_test)\n",
    "val_pred = rf_pipe.predict(X_val)\n",
    "test_pred = rf_pipe.predict(X_test)\n",
    "\n",
    "print('RandomForestRegressor Results')\n",
    "print(\"Train score:\", train_score)\n",
    "print(\"Val score:\", val_score)\n",
    "print(\"Test score:\", test_score)\n",
    "print(\"Val RMSE:\", np.sqrt(mean_squared_error(y_val, val_pred)))\n",
    "print(\"Test RMSE:\", np.sqrt(mean_squared_error(y_test, test_pred)))"
   ]
  },
  {
   "cell_type": "code",
   "execution_count": null,
<<<<<<< HEAD
<<<<<<< HEAD
<<<<<<< HEAD
=======
   "id": "83173960",
   "metadata": {},
   "outputs": [],
   "source": [
    "rf_pipe."
   ]
  },
  {
   "cell_type": "code",
   "execution_count": 33,
>>>>>>> ef3cdd8 (Fix Visualization file, fix script based on new 2022 data, repickle)
   "id": "c767bba4",
=======
   "id": "a9f4769b",
>>>>>>> f38f79b (Re-serialize model based on Testing Grounds File (tfidf + RF -> Best Results))
   "metadata": {},
   "outputs": [
    {
     "ename": "KeyError",
     "evalue": "'text'",
     "output_type": "error",
     "traceback": [
      "\u001b[1;31m---------------------------------------------------------------------------\u001b[0m",
      "\u001b[1;31mKeyError\u001b[0m                                  Traceback (most recent call last)",
      "\u001b[1;32m~\\AppData\\Local\\Temp/ipykernel_43376/770441539.py\u001b[0m in \u001b[0;36m<module>\u001b[1;34m\u001b[0m\n\u001b[1;32m----> 1\u001b[1;33m \u001b[0mrf_pipe\u001b[0m\u001b[1;33m.\u001b[0m\u001b[0mnamed_steps\u001b[0m\u001b[1;33m[\u001b[0m\u001b[1;34m'text'\u001b[0m\u001b[1;33m]\u001b[0m\u001b[1;33m.\u001b[0m\u001b[0mget_feature_names\u001b[0m\u001b[1;33m(\u001b[0m\u001b[1;33m)\u001b[0m\u001b[1;33m\u001b[0m\u001b[1;33m\u001b[0m\u001b[0m\n\u001b[0m",
      "\u001b[1;31mKeyError\u001b[0m: 'text'"
     ]
    }
   ],
   "source": [
    "rf_pipe.named_steps['text'].get_feature_names()"
   ]
  },
  {
   "cell_type": "code",
   "execution_count": null,
   "id": "4ef8fc0e",
=======
   "id": "4c092c2c",
>>>>>>> f845a96 (Merge all edits)
   "metadata": {},
   "outputs": [],
   "source": []
  }
 ],
 "metadata": {
  "kernelspec": {
   "display_name": "Python 3 (ipykernel)",
   "language": "python",
   "name": "python3"
  },
  "language_info": {
   "codemirror_mode": {
    "name": "ipython",
    "version": 3
   },
   "file_extension": ".py",
   "mimetype": "text/x-python",
   "name": "python",
   "nbconvert_exporter": "python",
   "pygments_lexer": "ipython3",
   "version": "3.8.10"
  }
 },
 "nbformat": 4,
 "nbformat_minor": 5
}
