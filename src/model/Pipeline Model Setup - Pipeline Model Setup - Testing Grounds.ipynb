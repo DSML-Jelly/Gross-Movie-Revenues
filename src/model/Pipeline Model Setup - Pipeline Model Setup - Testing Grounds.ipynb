{
 "cells": [
  {
   "cell_type": "code",
   "execution_count": 1,
   "id": "04f7aa64",
   "metadata": {},
   "outputs": [],
   "source": [
    "import pandas as pd\n",
    "import numpy as np\n",
    "import statsmodels.api as sm\n",
    "from sklearn.model_selection import train_test_split\n",
    "from sklearn.impute import SimpleImputer\n",
    "from sklearn.preprocessing import OneHotEncoder, StandardScaler\n",
    "from sklearn.feature_extraction.text import TfidfVectorizer\n",
    "from sklearn.ensemble import RandomForestRegressor\n",
    "from sklearn.compose import ColumnTransformer\n",
    "from sklearn.preprocessing import Normalizer\n",
    "from sklearn.pipeline import Pipeline, make_pipeline\n",
    "from sklearn.linear_model import Lasso, Ridge, LinearRegression, LogisticRegression\n",
    "from sklearn.metrics import mean_squared_error\n",
    "from sklearn.model_selection import GridSearchCV\n",
    "import pickle as pkl\n",
    "from tqdm import tqdm\n",
    "import time\n",
    "from datetime import datetime\n",
    "pd.set_option('display.max_columns', None)"
   ]
  },
  {
   "cell_type": "code",
   "execution_count": 2,
   "id": "76d6a4d1",
   "metadata": {},
   "outputs": [],
   "source": [
    "from sklearn.feature_extraction.text import TfidfVectorizer\n",
    "import nltk\n",
    "from nltk.corpus import stopwords\n",
    "\n",
    "stopwords = stopwords.words('english')"
   ]
  },
  {
   "cell_type": "code",
   "execution_count": 3,
   "id": "aa90bab4",
   "metadata": {},
   "outputs": [],
   "source": [
    "data = pd.read_csv('final_data.csv')"
   ]
  },
  {
   "cell_type": "code",
   "execution_count": 4,
   "id": "e2dfe22d",
   "metadata": {},
   "outputs": [
    {
     "data": {
      "text/html": [
       "<div>\n",
       "<style scoped>\n",
       "    .dataframe tbody tr th:only-of-type {\n",
       "        vertical-align: middle;\n",
       "    }\n",
       "\n",
       "    .dataframe tbody tr th {\n",
       "        vertical-align: top;\n",
       "    }\n",
       "\n",
       "    .dataframe thead th {\n",
       "        text-align: right;\n",
       "    }\n",
       "</style>\n",
       "<table border=\"1\" class=\"dataframe\">\n",
       "  <thead>\n",
       "    <tr style=\"text-align: right;\">\n",
       "      <th></th>\n",
       "      <th>1st_year_revenue</th>\n",
       "      <th>title</th>\n",
       "      <th>year</th>\n",
       "      <th>released</th>\n",
       "      <th>runtime</th>\n",
       "      <th>plot</th>\n",
       "      <th>top_10_dir</th>\n",
       "      <th>top_50_dir</th>\n",
       "      <th>top_100_dir</th>\n",
       "      <th>top_10_actors</th>\n",
       "      <th>top_50_actors</th>\n",
       "      <th>top_100_actors</th>\n",
       "      <th>language</th>\n",
       "      <th>country</th>\n",
       "      <th>rating</th>\n",
       "      <th>Action</th>\n",
       "      <th>Adventure</th>\n",
       "      <th>Fantasy/Sci-Fi</th>\n",
       "      <th>Crime</th>\n",
       "      <th>Thriller/Mystery</th>\n",
       "      <th>Drama</th>\n",
       "      <th>Horror</th>\n",
       "      <th>Comedy</th>\n",
       "      <th>Documentary</th>\n",
       "      <th>Family/Animated</th>\n",
       "      <th>Biography/History</th>\n",
       "      <th>Romance</th>\n",
       "      <th>Music/Musical</th>\n",
       "      <th>Likely TV</th>\n",
       "    </tr>\n",
       "  </thead>\n",
       "  <tbody>\n",
       "    <tr>\n",
       "      <th>0</th>\n",
       "      <td>2197561</td>\n",
       "      <td>Africa's Elephant Kingdom</td>\n",
       "      <td>1998</td>\n",
       "      <td>1998-05-08</td>\n",
       "      <td>40.0</td>\n",
       "      <td>This film explores an elephant clan's search f...</td>\n",
       "      <td>0.0</td>\n",
       "      <td>0.0</td>\n",
       "      <td>0.0</td>\n",
       "      <td>0.0</td>\n",
       "      <td>0.0</td>\n",
       "      <td>0.0</td>\n",
       "      <td>English only</td>\n",
       "      <td>US only</td>\n",
       "      <td>Unrated</td>\n",
       "      <td>0.0</td>\n",
       "      <td>0.0</td>\n",
       "      <td>0.0</td>\n",
       "      <td>0.0</td>\n",
       "      <td>0.0</td>\n",
       "      <td>0.0</td>\n",
       "      <td>0.0</td>\n",
       "      <td>0.0</td>\n",
       "      <td>1.0</td>\n",
       "      <td>0.0</td>\n",
       "      <td>0.0</td>\n",
       "      <td>0.0</td>\n",
       "      <td>0.0</td>\n",
       "      <td>0.0</td>\n",
       "    </tr>\n",
       "    <tr>\n",
       "      <th>1</th>\n",
       "      <td>2637726</td>\n",
       "      <td>God's Army</td>\n",
       "      <td>2000</td>\n",
       "      <td>2000-03-10</td>\n",
       "      <td>108.0</td>\n",
       "      <td>Life as a Mormon missionary isn't what 19-year...</td>\n",
       "      <td>0.0</td>\n",
       "      <td>0.0</td>\n",
       "      <td>0.0</td>\n",
       "      <td>0.0</td>\n",
       "      <td>0.0</td>\n",
       "      <td>0.0</td>\n",
       "      <td>English only</td>\n",
       "      <td>US only</td>\n",
       "      <td>PG</td>\n",
       "      <td>0.0</td>\n",
       "      <td>0.0</td>\n",
       "      <td>0.0</td>\n",
       "      <td>0.0</td>\n",
       "      <td>0.0</td>\n",
       "      <td>1.0</td>\n",
       "      <td>0.0</td>\n",
       "      <td>0.0</td>\n",
       "      <td>0.0</td>\n",
       "      <td>0.0</td>\n",
       "      <td>0.0</td>\n",
       "      <td>0.0</td>\n",
       "      <td>0.0</td>\n",
       "      <td>0.0</td>\n",
       "    </tr>\n",
       "    <tr>\n",
       "      <th>2</th>\n",
       "      <td>2699820</td>\n",
       "      <td>The Bone Collector</td>\n",
       "      <td>1999</td>\n",
       "      <td>1999-11-05</td>\n",
       "      <td>118.0</td>\n",
       "      <td>A quadriplegic ex-homicide detective and his p...</td>\n",
       "      <td>0.0</td>\n",
       "      <td>0.0</td>\n",
       "      <td>0.0</td>\n",
       "      <td>0.0</td>\n",
       "      <td>1.0</td>\n",
       "      <td>1.0</td>\n",
       "      <td>English only</td>\n",
       "      <td>US and others</td>\n",
       "      <td>R</td>\n",
       "      <td>0.0</td>\n",
       "      <td>0.0</td>\n",
       "      <td>0.0</td>\n",
       "      <td>1.0</td>\n",
       "      <td>1.0</td>\n",
       "      <td>1.0</td>\n",
       "      <td>0.0</td>\n",
       "      <td>0.0</td>\n",
       "      <td>0.0</td>\n",
       "      <td>0.0</td>\n",
       "      <td>0.0</td>\n",
       "      <td>0.0</td>\n",
       "      <td>0.0</td>\n",
       "      <td>0.0</td>\n",
       "    </tr>\n",
       "    <tr>\n",
       "      <th>3</th>\n",
       "      <td>2703114</td>\n",
       "      <td>Double Jeopardy</td>\n",
       "      <td>1999</td>\n",
       "      <td>1999-09-24</td>\n",
       "      <td>105.0</td>\n",
       "      <td>A woman framed for her husband's murder suspec...</td>\n",
       "      <td>0.0</td>\n",
       "      <td>0.0</td>\n",
       "      <td>0.0</td>\n",
       "      <td>0.0</td>\n",
       "      <td>0.0</td>\n",
       "      <td>0.0</td>\n",
       "      <td>English only</td>\n",
       "      <td>US and others</td>\n",
       "      <td>R</td>\n",
       "      <td>0.0</td>\n",
       "      <td>0.0</td>\n",
       "      <td>0.0</td>\n",
       "      <td>1.0</td>\n",
       "      <td>1.0</td>\n",
       "      <td>1.0</td>\n",
       "      <td>0.0</td>\n",
       "      <td>0.0</td>\n",
       "      <td>0.0</td>\n",
       "      <td>0.0</td>\n",
       "      <td>0.0</td>\n",
       "      <td>0.0</td>\n",
       "      <td>0.0</td>\n",
       "      <td>0.0</td>\n",
       "    </tr>\n",
       "    <tr>\n",
       "      <th>4</th>\n",
       "      <td>1428932</td>\n",
       "      <td>Three Kings</td>\n",
       "      <td>1999</td>\n",
       "      <td>1999-10-01</td>\n",
       "      <td>114.0</td>\n",
       "      <td>In the aftermath of the Persian Gulf War, four...</td>\n",
       "      <td>0.0</td>\n",
       "      <td>0.0</td>\n",
       "      <td>0.0</td>\n",
       "      <td>1.0</td>\n",
       "      <td>1.0</td>\n",
       "      <td>1.0</td>\n",
       "      <td>English and others</td>\n",
       "      <td>US only</td>\n",
       "      <td>R</td>\n",
       "      <td>1.0</td>\n",
       "      <td>1.0</td>\n",
       "      <td>0.0</td>\n",
       "      <td>0.0</td>\n",
       "      <td>0.0</td>\n",
       "      <td>0.0</td>\n",
       "      <td>0.0</td>\n",
       "      <td>1.0</td>\n",
       "      <td>0.0</td>\n",
       "      <td>0.0</td>\n",
       "      <td>0.0</td>\n",
       "      <td>0.0</td>\n",
       "      <td>0.0</td>\n",
       "      <td>0.0</td>\n",
       "    </tr>\n",
       "  </tbody>\n",
       "</table>\n",
       "</div>"
      ],
      "text/plain": [
       "   1st_year_revenue                      title  year    released  runtime  \\\n",
       "0           2197561  Africa's Elephant Kingdom  1998  1998-05-08     40.0   \n",
       "1           2637726                 God's Army  2000  2000-03-10    108.0   \n",
       "2           2699820         The Bone Collector  1999  1999-11-05    118.0   \n",
       "3           2703114            Double Jeopardy  1999  1999-09-24    105.0   \n",
       "4           1428932                Three Kings  1999  1999-10-01    114.0   \n",
       "\n",
       "                                                plot  top_10_dir  top_50_dir  \\\n",
       "0  This film explores an elephant clan's search f...         0.0         0.0   \n",
       "1  Life as a Mormon missionary isn't what 19-year...         0.0         0.0   \n",
       "2  A quadriplegic ex-homicide detective and his p...         0.0         0.0   \n",
       "3  A woman framed for her husband's murder suspec...         0.0         0.0   \n",
       "4  In the aftermath of the Persian Gulf War, four...         0.0         0.0   \n",
       "\n",
       "   top_100_dir  top_10_actors  top_50_actors  top_100_actors  \\\n",
       "0          0.0            0.0            0.0             0.0   \n",
       "1          0.0            0.0            0.0             0.0   \n",
       "2          0.0            0.0            1.0             1.0   \n",
       "3          0.0            0.0            0.0             0.0   \n",
       "4          0.0            1.0            1.0             1.0   \n",
       "\n",
       "             language        country   rating  Action  Adventure  \\\n",
       "0        English only        US only  Unrated     0.0        0.0   \n",
       "1        English only        US only       PG     0.0        0.0   \n",
       "2        English only  US and others        R     0.0        0.0   \n",
       "3        English only  US and others        R     0.0        0.0   \n",
       "4  English and others        US only        R     1.0        1.0   \n",
       "\n",
       "   Fantasy/Sci-Fi  Crime  Thriller/Mystery  Drama  Horror  Comedy  \\\n",
       "0             0.0    0.0               0.0    0.0     0.0     0.0   \n",
       "1             0.0    0.0               0.0    1.0     0.0     0.0   \n",
       "2             0.0    1.0               1.0    1.0     0.0     0.0   \n",
       "3             0.0    1.0               1.0    1.0     0.0     0.0   \n",
       "4             0.0    0.0               0.0    0.0     0.0     1.0   \n",
       "\n",
       "   Documentary  Family/Animated  Biography/History  Romance  Music/Musical  \\\n",
       "0          1.0              0.0                0.0      0.0            0.0   \n",
       "1          0.0              0.0                0.0      0.0            0.0   \n",
       "2          0.0              0.0                0.0      0.0            0.0   \n",
       "3          0.0              0.0                0.0      0.0            0.0   \n",
       "4          0.0              0.0                0.0      0.0            0.0   \n",
       "\n",
       "   Likely TV  \n",
       "0        0.0  \n",
       "1        0.0  \n",
       "2        0.0  \n",
       "3        0.0  \n",
       "4        0.0  "
      ]
     },
     "execution_count": 4,
     "metadata": {},
     "output_type": "execute_result"
    }
   ],
   "source": [
    "data.head()"
   ]
  },
  {
   "cell_type": "code",
   "execution_count": 5,
   "id": "86401311",
   "metadata": {},
   "outputs": [
    {
     "data": {
      "text/plain": [
       "Index(['1st_year_revenue', 'title', 'year', 'released', 'runtime', 'plot',\n",
       "       'top_10_dir', 'top_50_dir', 'top_100_dir', 'top_10_actors',\n",
       "       'top_50_actors', 'top_100_actors', 'language', 'country', 'rating',\n",
       "       'Action', 'Adventure', 'Fantasy/Sci-Fi', 'Crime', 'Thriller/Mystery',\n",
       "       'Drama', 'Horror', 'Comedy', 'Documentary', 'Family/Animated',\n",
       "       'Biography/History', 'Romance', 'Music/Musical', 'Likely TV'],\n",
       "      dtype='object')"
      ]
     },
     "execution_count": 5,
     "metadata": {},
     "output_type": "execute_result"
    }
   ],
   "source": [
    "data.columns"
   ]
  },
  {
   "cell_type": "markdown",
   "id": "f64908d1",
   "metadata": {},
   "source": [
    "### Removing categorical variables for base test"
   ]
  },
  {
   "cell_type": "code",
   "execution_count": 6,
   "id": "86a2e46c",
   "metadata": {},
   "outputs": [
    {
     "name": "stdout",
     "output_type": "stream",
     "text": [
      "                            OLS Regression Results                            \n",
      "==============================================================================\n",
      "Dep. Variable:       1st_year_revenue   R-squared:                       0.036\n",
      "Model:                            OLS   Adj. R-squared:                  0.035\n",
      "Method:                 Least Squares   F-statistic:                     84.73\n",
      "Date:                Thu, 08 Dec 2022   Prob (F-statistic):           7.39e-37\n",
      "Time:                        21:09:09   Log-Likelihood:                -88645.\n",
      "No. Observations:                4568   AIC:                         1.773e+05\n",
      "Df Residuals:                    4565   BIC:                         1.773e+05\n",
      "Df Model:                           2                                         \n",
      "Covariance Type:            nonrobust                                         \n",
      "==============================================================================\n",
      "                 coef    std err          t      P>|t|      [0.025      0.975]\n",
      "------------------------------------------------------------------------------\n",
      "year       -2.532e+06   9.59e+05     -2.640      0.008   -4.41e+06   -6.52e+05\n",
      "runtime     1.218e+07   9.59e+05     12.703      0.000    1.03e+07    1.41e+07\n",
      "const       3.299e+07   9.59e+05     34.400      0.000    3.11e+07    3.49e+07\n",
      "==============================================================================\n",
      "Omnibus:                     3972.346   Durbin-Watson:                   0.462\n",
      "Prob(Omnibus):                  0.000   Jarque-Bera (JB):           141407.429\n",
      "Skew:                           4.073   Prob(JB):                         0.00\n",
      "Kurtosis:                      29.011   Cond. No.                         1.02\n",
      "==============================================================================\n",
      "\n",
      "Notes:\n",
      "[1] Standard Errors assume that the covariance matrix of the errors is correctly specified.\n",
      "year      -2.532341e+06\n",
      "runtime    1.218365e+07\n",
      "const      3.298999e+07\n",
      "dtype: float64\n"
     ]
    }
   ],
   "source": [
    "Y = data['1st_year_revenue']\n",
    "X = data[['year', 'runtime']]\n",
    "# X = pd.concat((\n",
    "#     data,\n",
    "#     pd.get_dummies(data, columns= ['language', 'country', 'rating'], drop_first=True)), axis=1)\n",
    "\n",
    "\n",
    "stand_X = (X - np.mean(X, axis = 0)) / np.std(X, axis = 0)\n",
    "stand_X\n",
    "\n",
    "stand_Y = Y\n",
    "\n",
    "X2 = stand_X\n",
    "Y2 = stand_Y\n",
    "\n",
    "X2 = sm.add_constant(X2, prepend=False)\n",
    "mod = sm.OLS(Y2, X2)\n",
    "res = mod.fit()\n",
    "print(res.summary())\n",
    "print(res.params)"
   ]
  },
  {
   "cell_type": "markdown",
   "id": "9f7fb642",
   "metadata": {},
   "source": [
    "### OLS Regression Results"
   ]
  },
  {
   "cell_type": "markdown",
   "id": "8cdf795f",
   "metadata": {},
   "source": [
    "#### Categories that don't need OHE\n",
    "'directors', 'actors', 'genre'"
   ]
  },
  {
   "cell_type": "code",
   "execution_count": 7,
   "id": "9650a6bd",
   "metadata": {},
   "outputs": [
    {
     "name": "stdout",
     "output_type": "stream",
     "text": [
      "                            OLS Regression Results                            \n",
      "==============================================================================\n",
      "Dep. Variable:       1st_year_revenue   R-squared:                       0.356\n",
      "Model:                            OLS   Adj. R-squared:                  0.351\n",
      "Method:                 Least Squares   F-statistic:                     83.42\n",
      "Date:                Thu, 08 Dec 2022   Prob (F-statistic):               0.00\n",
      "Time:                        21:09:09   Log-Likelihood:                -87725.\n",
      "No. Observations:                4568   AIC:                         1.755e+05\n",
      "Df Residuals:                    4537   BIC:                         1.757e+05\n",
      "Df Model:                          30                                         \n",
      "Covariance Type:            nonrobust                                         \n",
      "=========================================================================================\n",
      "                            coef    std err          t      P>|t|      [0.025      0.975]\n",
      "-----------------------------------------------------------------------------------------\n",
      "year                   1.515e+06   8.13e+05      1.865      0.062   -7.79e+04    3.11e+06\n",
      "runtime                1.343e+07   9.53e+05     14.083      0.000    1.16e+07    1.53e+07\n",
      "top_10_dir             5.086e+05   9.31e+05      0.546      0.585   -1.32e+06    2.33e+06\n",
      "top_50_dir            -4.318e+06   1.36e+06     -3.173      0.002   -6.99e+06   -1.65e+06\n",
      "top_100_dir            9.135e+06    1.3e+06      7.050      0.000     6.6e+06    1.17e+07\n",
      "top_10_actors         -1.846e+06   9.27e+05     -1.991      0.047   -3.66e+06   -2.85e+04\n",
      "top_50_actors          3.218e+06   1.31e+06      2.458      0.014    6.52e+05    5.78e+06\n",
      "top_100_actors         5.143e+06   1.25e+06      4.106      0.000    2.69e+06     7.6e+06\n",
      "Action                 9.815e+05   1.01e+06      0.970      0.332      -1e+06    2.97e+06\n",
      "Adventure              1.503e+07   1.02e+06     14.742      0.000     1.3e+07     1.7e+07\n",
      "Fantasy/Sci-Fi         4.831e+06   8.83e+05      5.474      0.000     3.1e+06    6.56e+06\n",
      "Crime                 -1.629e+06   8.91e+05     -1.828      0.068   -3.38e+06    1.18e+05\n",
      "Thriller/Mystery      -1.038e+06   9.98e+05     -1.040      0.299      -3e+06    9.19e+05\n",
      "Drama                 -7.548e+06   1.09e+06     -6.951      0.000   -9.68e+06   -5.42e+06\n",
      "Horror                -2.155e+05   9.39e+05     -0.230      0.818   -2.06e+06    1.62e+06\n",
      "Comedy                -7.146e+05   1.07e+06     -0.669      0.503   -2.81e+06    1.38e+06\n",
      "Documentary            -2.49e+06   1.15e+06     -2.169      0.030   -4.74e+06   -2.39e+05\n",
      "Family/Animated        6.915e+06   1.13e+06      6.095      0.000    4.69e+06    9.14e+06\n",
      "Biography/History     -2.216e+06   8.82e+05     -2.514      0.012   -3.94e+06   -4.88e+05\n",
      "Romance               -1.736e+06   9.11e+05     -1.906      0.057   -3.52e+06       5e+04\n",
      "Music/Musical         -5.334e+05   8.13e+05     -0.656      0.512   -2.13e+06    1.06e+06\n",
      "Likely TV              3.286e+05   7.94e+05      0.414      0.679   -1.23e+06    1.88e+06\n",
      "language_English only -6.614e+06   9.68e+05     -6.832      0.000   -8.51e+06   -4.72e+06\n",
      "language_Foreign lang -7.991e+06   1.26e+06     -6.330      0.000   -1.05e+07   -5.52e+06\n",
      "country_US and others  6.171e+06   9.98e+05      6.181      0.000    4.21e+06    8.13e+06\n",
      "country_US only        1.046e+07   1.11e+06      9.432      0.000    8.29e+06    1.26e+07\n",
      "rating_PG              -2.23e+06   2.03e+06     -1.100      0.271   -6.21e+06    1.74e+06\n",
      "rating_PG-13           3.692e+06   3.02e+06      1.221      0.222   -2.24e+06    9.62e+06\n",
      "rating_R              -4.827e+06   3.11e+06     -1.551      0.121   -1.09e+07    1.27e+06\n",
      "rating_Unrated        -6.451e+06   2.87e+06     -2.249      0.025   -1.21e+07   -8.28e+05\n",
      "const                  3.299e+07   7.86e+05     41.947      0.000    3.14e+07    3.45e+07\n",
      "==============================================================================\n",
      "Omnibus:                     3829.130   Durbin-Watson:                   0.960\n",
      "Prob(Omnibus):                  0.000   Jarque-Bera (JB):           167552.427\n",
      "Skew:                           3.749   Prob(JB):                         0.00\n",
      "Kurtosis:                      31.707   Cond. No.                         12.5\n",
      "==============================================================================\n",
      "\n",
      "Notes:\n",
      "[1] Standard Errors assume that the covariance matrix of the errors is correctly specified.\n",
      "year                     1.515011e+06\n",
      "runtime                  1.342617e+07\n",
      "top_10_dir               5.085847e+05\n",
      "top_50_dir              -4.317660e+06\n",
      "top_100_dir              9.135457e+06\n",
      "top_10_actors           -1.846076e+06\n",
      "top_50_actors            3.217938e+06\n",
      "top_100_actors           5.142823e+06\n",
      "Action                   9.814679e+05\n",
      "Adventure                1.503167e+07\n",
      "Fantasy/Sci-Fi           4.831387e+06\n",
      "Crime                   -1.629038e+06\n",
      "Thriller/Mystery        -1.038146e+06\n",
      "Drama                   -7.548181e+06\n",
      "Horror                  -2.155049e+05\n",
      "Comedy                  -7.146398e+05\n",
      "Documentary             -2.489657e+06\n",
      "Family/Animated          6.915083e+06\n",
      "Biography/History       -2.216010e+06\n",
      "Romance                 -1.735648e+06\n",
      "Music/Musical           -5.334114e+05\n",
      "Likely TV                3.286012e+05\n",
      "language_English only   -6.614006e+06\n",
      "language_Foreign lang   -7.991019e+06\n",
      "country_US and others    6.171442e+06\n",
      "country_US only          1.046397e+07\n",
      "rating_PG               -2.230445e+06\n",
      "rating_PG-13             3.692300e+06\n",
      "rating_R                -4.827406e+06\n",
      "rating_Unrated          -6.450825e+06\n",
      "const                    3.298999e+07\n",
      "dtype: float64\n"
     ]
    }
   ],
   "source": [
    "Y = data['1st_year_revenue']\n",
    "X = data.drop(labels=['title', '1st_year_revenue', 'released', 'plot'], axis=1)\n",
    "X = pd.get_dummies(X, columns= ['language', 'country', 'rating'], drop_first=True)\n",
    "\n",
    "stand_X = (X - np.mean(X, axis = 0)) / np.std(X, axis = 0)\n",
    "stand_X\n",
    "\n",
    "stand_Y = Y\n",
    "\n",
    "X2 = stand_X\n",
    "Y2 = stand_Y\n",
    "\n",
    "X2 = sm.add_constant(X2, prepend=False)\n",
    "mod = sm.OLS(Y2, X2)\n",
    "res = mod.fit()\n",
    "print(res.summary())\n",
    "print(res.params)"
   ]
  },
  {
   "cell_type": "markdown",
   "id": "d4683683",
   "metadata": {},
   "source": [
    "### Data Transformations"
   ]
  },
  {
   "cell_type": "code",
   "execution_count": 8,
   "id": "32e2798b",
   "metadata": {},
   "outputs": [],
   "source": [
    "data.sort_values(by=['released'], inplace=True)\n",
    "y = data['1st_year_revenue']\n",
    "X = data.drop(columns=['title', '1st_year_revenue'], axis=1)\n",
    "# X = data.drop(['gross'], axis=1)\n",
    "\n",
    "# Shuffle to false to handle time data\n",
    "X_train, X_test, y_train, y_test = train_test_split(X, y, shuffle=False, test_size = 0.2)\n",
    "X_train, X_val, y_train, y_val = train_test_split(X_train, y_train, shuffle=False, test_size = 0.2)"
   ]
  },
  {
   "cell_type": "code",
   "execution_count": 9,
   "id": "4d806415",
   "metadata": {},
   "outputs": [],
   "source": [
    "categorical_cols = ['language', 'country', 'rating']"
   ]
  },
  {
   "cell_type": "code",
   "execution_count": 10,
   "id": "00094736",
   "metadata": {},
   "outputs": [],
   "source": [
    "# Text Preprocessor\n",
    "text_preprocesser = Pipeline(\n",
    "    steps=[\n",
    "        # Input tfidf parameters\n",
    "        ('tfidf', TfidfVectorizer(stop_words = stopwords, strip_accents = 'unicode', min_df = .001, max_df = 0.7))\n",
    "    ])"
   ]
  },
  {
   "cell_type": "code",
   "execution_count": 11,
   "id": "67e819d6",
   "metadata": {},
   "outputs": [],
   "source": [
    "# Categorical Preprocessor\n",
    "categorical_preprocessor = Pipeline(\n",
    "    steps=[\n",
    "        # Change to 'ignore' if error raised\n",
    "        (\"OHE\", OneHotEncoder(handle_unknown='error', drop='first'))\n",
    "    ])"
   ]
  },
  {
   "cell_type": "code",
   "execution_count": 12,
   "id": "70e3d4b7",
   "metadata": {},
   "outputs": [],
   "source": [
    "#Combine preprocessors\n",
    "#Commenting out TfidfVectorizer as it does not help the model\n",
    "preprocessor = ColumnTransformer(\n",
    "    transformers=[\n",
    "        ('text', text_preprocesser, 'plot'),\n",
    "        ('category', categorical_preprocessor, categorical_cols)\n",
    "    ])"
   ]
  },
  {
   "cell_type": "code",
   "execution_count": 13,
   "id": "c8f84640",
   "metadata": {},
   "outputs": [],
   "source": [
    "lr_pipe = make_pipeline(\n",
    "    preprocessor, \n",
    "    StandardScaler(with_mean=False), \n",
    "    LinearRegression()\n",
    ")\n",
    "\n",
    "lasso_pipe = make_pipeline(\n",
    "    preprocessor, \n",
    "    StandardScaler(with_mean=False), \n",
    "    Lasso()\n",
    ")\n",
    "\n",
    "ridge_pipe = make_pipeline(\n",
    "    preprocessor, \n",
    "    StandardScaler(with_mean=False), \n",
    "    Ridge()\n",
    ")\n",
    "\n",
    "rf_pipe = make_pipeline(\n",
    "    preprocessor, \n",
    "    StandardScaler(with_mean=False), \n",
    "    RandomForestRegressor(random_state = 42)\n",
    ")"
   ]
  },
  {
   "cell_type": "code",
   "execution_count": 14,
   "id": "fa0b2114",
   "metadata": {},
   "outputs": [],
   "source": [
    "## if make_pipeline doesn't work\n",
    "# pipe = Pipeline(\n",
    "#         steps= [\n",
    "#             ('preprocessor', preprocessor),\n",
    "#             ('scaler', StandardScaler(with_mean=False)),\n",
    "#             ('linearReg', LinearRegression())\n",
    "#         ])"
   ]
  },
  {
   "cell_type": "markdown",
   "id": "d6c943bf",
   "metadata": {},
   "source": [
    "### Linear Regression Base Model"
   ]
  },
  {
   "cell_type": "code",
   "execution_count": 15,
   "id": "d01cde45",
   "metadata": {},
   "outputs": [
    {
     "name": "stdout",
     "output_type": "stream",
     "text": [
      "Linear Regression Results\n",
      "Train score: 0.9999999999998147\n",
      "Val score: -2.9051529837853485\n",
      "Test score: -2.9740205199765373\n",
      "Val RMSE: 131433296.82579961\n",
      "Test RMSE: 139510389.9512548\n"
     ]
    }
   ],
   "source": [
    "lr_pipe.fit(X_train, y_train)\n",
    "train_score = lr_pipe.score(X_train, y_train)\n",
    "val_score = lr_pipe.score(X_val, y_val)\n",
    "test_score = lr_pipe.score(X_test, y_test)\n",
    "val_pred = lr_pipe.predict(X_val)\n",
    "test_pred = lr_pipe.predict(X_test)\n",
    "\n",
    "print('Linear Regression Results')\n",
    "print(\"Train score:\", train_score)\n",
    "print(\"Val score:\", val_score)\n",
    "print(\"Test score:\", test_score)\n",
    "print(\"Val RMSE:\", np.sqrt(mean_squared_error(y_val, val_pred)))\n",
    "print(\"Test RMSE:\", np.sqrt(mean_squared_error(y_test, test_pred)))"
   ]
  },
  {
   "cell_type": "markdown",
   "id": "5244e9c1",
   "metadata": {},
   "source": [
    "### Ridge Base Model"
   ]
  },
  {
   "cell_type": "code",
   "execution_count": 16,
   "id": "75095c5c",
   "metadata": {},
   "outputs": [
    {
     "name": "stdout",
     "output_type": "stream",
     "text": [
      "Ridge Regression Results\n",
      "Train score: 0.9999791053167697\n",
      "Val score: -2.8177990272180393\n",
      "Test score: -2.873622370125576\n",
      "Val RMSE: 129954974.15884143\n",
      "Test RMSE: 137736847.93542886\n"
     ]
    }
   ],
   "source": [
    "ridge_pipe.fit(X_train, y_train)\n",
    "train_score = ridge_pipe.score(X_train, y_train)\n",
    "val_score = ridge_pipe.score(X_val, y_val)\n",
    "test_score = ridge_pipe.score(X_test, y_test)\n",
    "val_pred = ridge_pipe.predict(X_val)\n",
    "test_pred = ridge_pipe.predict(X_test)\n",
    "\n",
    "print('Ridge Regression Results')\n",
    "print(\"Train score:\", train_score)\n",
    "print(\"Val score:\", val_score)\n",
    "print(\"Test score:\", test_score)\n",
    "print(\"Val RMSE:\", np.sqrt(mean_squared_error(y_val, val_pred)))\n",
    "print(\"Test RMSE:\", np.sqrt(mean_squared_error(y_test, test_pred)))"
   ]
  },
  {
   "cell_type": "markdown",
   "id": "a3bb436a",
   "metadata": {},
   "source": [
    "### Lasso Base Model"
   ]
  },
  {
   "cell_type": "code",
   "execution_count": 17,
   "id": "5ed15abb",
   "metadata": {},
   "outputs": [
    {
     "name": "stdout",
     "output_type": "stream",
     "text": [
      "Lasso Regression Results\n",
      "Train score: 0.9999982931067715\n",
      "Val score: -3.3012742917554148\n",
      "Test score: -3.252982563175923\n",
      "Val RMSE: 137938324.01868495\n",
      "Test RMSE: 144323914.9440439\n"
     ]
    }
   ],
   "source": [
    "lasso_pipe.fit(X_train, y_train)\n",
    "train_score = lasso_pipe.score(X_train, y_train)\n",
    "val_score = lasso_pipe.score(X_val, y_val)\n",
    "test_score = lasso_pipe.score(X_test, y_test)\n",
    "val_pred = lasso_pipe.predict(X_val)\n",
    "test_pred = lasso_pipe.predict(X_test)\n",
    "\n",
    "print('Lasso Regression Results')\n",
    "print(\"Train score:\", train_score)\n",
    "print(\"Val score:\", val_score)\n",
    "print(\"Test score:\", test_score)\n",
    "print(\"Val RMSE:\", np.sqrt(mean_squared_error(y_val, val_pred)))\n",
    "print(\"Test RMSE:\", np.sqrt(mean_squared_error(y_test, test_pred)))"
   ]
  },
  {
   "cell_type": "markdown",
   "id": "e0a109a7",
   "metadata": {},
   "source": [
    "### RandomForestRegressor Base Model"
   ]
  },
  {
   "cell_type": "code",
   "execution_count": 18,
   "id": "58fc2447",
   "metadata": {},
   "outputs": [
    {
     "name": "stdout",
     "output_type": "stream",
     "text": [
      "RandomForestRegressor Results\n",
      "Train score: 0.8885577873490816\n",
      "Val score: 0.1901107713750304\n",
      "Test score: 0.22173529624320232\n",
      "Val RMSE: 59854828.01090608\n",
      "Test RMSE: 61738371.15202071\n"
     ]
    }
   ],
   "source": [
    "rf_pipe.fit(X_train, y_train)\n",
    "train_score = rf_pipe.score(X_train, y_train)\n",
    "val_score = rf_pipe.score(X_val, y_val)\n",
    "test_score = rf_pipe.score(X_test, y_test)\n",
    "val_pred = rf_pipe.predict(X_val)\n",
    "test_pred = rf_pipe.predict(X_test)\n",
    "\n",
    "print('RandomForestRegressor Results')\n",
    "print(\"Train score:\", train_score)\n",
    "print(\"Val score:\", val_score)\n",
    "print(\"Test score:\", test_score)\n",
    "print(\"Val RMSE:\", np.sqrt(mean_squared_error(y_val, val_pred)))\n",
    "print(\"Test RMSE:\", np.sqrt(mean_squared_error(y_test, test_pred)))"
   ]
  },
  {
   "cell_type": "markdown",
   "id": "9170e295",
   "metadata": {},
   "source": [
    "### GridSearchCV"
   ]
  },
  {
   "cell_type": "markdown",
   "id": "0aeb93f6",
   "metadata": {},
   "source": [
    "#### Ridge"
   ]
  },
  {
   "cell_type": "code",
   "execution_count": 28,
   "id": "82acbe30",
   "metadata": {},
   "outputs": [],
   "source": [
    "# ridge_pipe.get_params().keys()"
   ]
  },
  {
   "cell_type": "code",
   "execution_count": 20,
   "id": "c87b5beb",
   "metadata": {},
   "outputs": [
    {
     "name": "stdout",
     "output_type": "stream",
     "text": [
      "Fitting 5 folds for each of 100 candidates, totalling 500 fits\n",
      "Best params: {'ridge__alpha': 7742.636826811277, 'ridge__max_iter': 1e-05}\n",
      "Internal CV score: 0.155\n",
      "Process took: 0:00:08.524077\n"
     ]
    }
   ],
   "source": [
    "param_grid = {\n",
    "    \"ridge__alpha\": np.logspace(-5, 5, 10),\n",
    "    \"ridge__max_iter\": np.logspace(-5, 5, 10)\n",
    "#     \"ridge__tol\": np.logspace(1, 5, 5)\n",
    "\n",
    "}\n",
    "\n",
    "# Start Time\n",
    "start = datetime.now()\n",
    "\n",
    "grid_search = GridSearchCV(ridge_pipe, param_grid=param_grid, n_jobs=-1, verbose = 2)\n",
    "grid_search.fit(X_train, y_train)  \n",
    "print(\"Best params:\", grid_search.best_params_)\n",
    "print(f\"Internal CV score: {grid_search.best_score_:.3f}\")\n",
    "\n",
    "# End Time\n",
    "end = datetime.now()\n",
    "print(\"Process took:\", end - start)"
   ]
  },
  {
   "cell_type": "markdown",
   "id": "49fe8552",
   "metadata": {},
   "source": [
    "#### Lasso"
   ]
  },
  {
   "cell_type": "code",
   "execution_count": 21,
   "id": "536c8148",
   "metadata": {},
   "outputs": [
    {
     "name": "stdout",
     "output_type": "stream",
     "text": [
      "Fitting 5 folds for each of 70 candidates, totalling 350 fits\n",
      "Best params: {'lasso__alpha': 0.001, 'lasso__max_iter': 1e-05}\n",
      "Internal CV score: -0.001\n",
      "Process took: 0:03:16.437396\n"
     ]
    },
    {
     "name": "stderr",
     "output_type": "stream",
     "text": [
      "C:\\Users\\admin\\anaconda3\\lib\\site-packages\\sklearn\\linear_model\\_coordinate_descent.py:513: ConvergenceWarning: Objective did not converge. You might want to increase the number of iterations. Duality gap: 1.0001, tolerance: 1197698739849187.5\n",
      "  model = cd_fast.sparse_enet_coordinate_descent(\n"
     ]
    }
   ],
   "source": [
    "param_grid = {\n",
    "    \"lasso__alpha\": np.logspace(-3, 3, 7),\n",
    "    \"lasso__max_iter\": np.logspace(-5, 5, 10)\n",
    "\n",
    "#     \"max_iter\": np.logspace(1, 5, 5)\n",
    "}\n",
    "\n",
    "# Start Time\n",
    "start = datetime.now()\n",
    "\n",
    "grid_search = GridSearchCV(lasso_pipe, param_grid=param_grid, n_jobs=-1, verbose = 2)\n",
    "grid_search.fit(X_train, y_train)  \n",
    "print(\"Best params:\", grid_search.best_params_)\n",
    "print(f\"Internal CV score: {grid_search.best_score_:.3f}\")\n",
    "\n",
    "# End Time\n",
    "end = datetime.now()\n",
    "print(\"Process took:\", end - start)"
   ]
  },
  {
   "cell_type": "markdown",
   "id": "90303ea2",
   "metadata": {},
   "source": [
    "#### RandomForestRegressor"
   ]
  },
  {
   "cell_type": "code",
   "execution_count": 22,
   "id": "c99af605",
   "metadata": {},
   "outputs": [],
   "source": [
    "# rf_pipe.get_params().keys()"
   ]
  },
  {
   "cell_type": "code",
   "execution_count": 29,
   "id": "40274b95",
   "metadata": {},
   "outputs": [
    {
     "name": "stdout",
     "output_type": "stream",
     "text": [
      "Fitting 5 folds for each of 189 candidates, totalling 945 fits\n",
      "Best params: {'randomforestregressor__max_depth': None, 'randomforestregressor__max_features': 'sqrt', 'randomforestregressor__n_estimators': 600, 'randomforestregressor__random_state': 42}\n",
      "Internal CV score: 0.199\n",
      "Process took: 0:05:13.023373\n"
     ]
    }
   ],
   "source": [
    "# Start Time\n",
    "start = datetime.now()\n",
    "\n",
    "param_grid = {\n",
    "    'randomforestregressor__n_estimators': [100,200,300,400,500],\n",
    "    'randomforestregressor__max_features': [None, 'sqrt','log2'],\n",
    "    'randomforestregressor__max_depth' : [None,1,2,3,4,5,6,7,8],\n",
    "    'randomforestregressor__random_state': [42]\n",
    "}\n",
    "\n",
    "grid_search = GridSearchCV(rf_pipe, param_grid=param_grid, n_jobs=-1, verbose = 10)\n",
    "grid_search.fit(X_train, y_train)  \n",
    "print(\"Best params:\", grid_search.best_params_)\n",
    "print(f\"Internal CV score: {grid_search.best_score_:.3f}\")\n",
    "\n",
    "# End Time\n",
    "end = datetime.now()\n",
    "print(\"Process took:\", end - start)"
   ]
  },
  {
   "cell_type": "code",
   "execution_count": 24,
   "id": "ca98af00",
   "metadata": {},
   "outputs": [],
   "source": [
    "# grid_search.cv_results_"
   ]
  },
  {
   "cell_type": "markdown",
   "id": "7c096c2c",
   "metadata": {},
   "source": [
    "### Serialize Model"
   ]
  },
  {
   "cell_type": "code",
   "execution_count": 34,
   "id": "4e35450b",
   "metadata": {},
   "outputs": [],
   "source": [
    "## Tfidf with RF displays best results\n",
    "rf_pipe = make_pipeline(\n",
    "    preprocessor, \n",
    "    StandardScaler(with_mean=False), \n",
    "    RandomForestRegressor(max_depth = None, \n",
    "                          max_features = 'sqrt', \n",
    "                          n_estimators = 600, \n",
    "                          random_state = 42)\n",
    ")\n",
    "\n",
    "filename= 'model.pkl'\n",
    "pkl.dump(rf_pipe, open(filename, 'wb'))"
   ]
  },
  {
   "cell_type": "markdown",
   "id": "d63c3db8",
   "metadata": {},
   "source": [
    "### Final Model"
   ]
  },
  {
   "cell_type": "code",
   "execution_count": 35,
   "id": "a1c077d7",
   "metadata": {},
   "outputs": [
    {
     "name": "stdout",
     "output_type": "stream",
     "text": [
      "RandomForestRegressor Results\n",
      "Train score: 0.8921686306145462\n",
      "Val score: 0.19171336444994835\n",
      "Test score: 0.18177204589537665\n",
      "Val RMSE: 59795578.90059872\n",
      "Test RMSE: 63303636.125264354\n"
     ]
    }
   ],
   "source": [
    "rf_pipe.fit(X_train, y_train)\n",
    "train_score = rf_pipe.score(X_train, y_train)\n",
    "val_score = rf_pipe.score(X_val, y_val)\n",
    "test_score = rf_pipe.score(X_test, y_test)\n",
    "val_pred = rf_pipe.predict(X_val)\n",
    "test_pred = rf_pipe.predict(X_test)\n",
    "\n",
    "print('RandomForestRegressor Results')\n",
    "print(\"Train score:\", train_score)\n",
    "print(\"Val score:\", val_score)\n",
    "print(\"Test score:\", test_score)\n",
    "print(\"Val RMSE:\", np.sqrt(mean_squared_error(y_val, val_pred)))\n",
    "print(\"Test RMSE:\", np.sqrt(mean_squared_error(y_test, test_pred)))"
   ]
  },
  {
   "cell_type": "code",
   "execution_count": null,
   "id": "c767bba4",
   "metadata": {},
   "outputs": [],
   "source": []
  }
 ],
 "metadata": {
  "kernelspec": {
   "display_name": "Python 3 (ipykernel)",
   "language": "python",
   "name": "python3"
  },
  "language_info": {
   "codemirror_mode": {
    "name": "ipython",
    "version": 3
   },
   "file_extension": ".py",
   "mimetype": "text/x-python",
   "name": "python",
   "nbconvert_exporter": "python",
   "pygments_lexer": "ipython3",
   "version": "3.8.10"
  }
 },
 "nbformat": 4,
 "nbformat_minor": 5
}
