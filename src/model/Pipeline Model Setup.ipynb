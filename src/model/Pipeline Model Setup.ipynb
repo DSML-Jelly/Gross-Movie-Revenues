{
 "cells": [
  {
   "cell_type": "code",
   "execution_count": 1,
   "id": "04f7aa64",
   "metadata": {},
   "outputs": [],
   "source": [
    "import pandas as pd\n",
    "import numpy as np\n",
    "import statsmodels.api as sm\n",
    "from sklearn.model_selection import train_test_split\n",
    "from sklearn.impute import SimpleImputer\n",
    "from sklearn.preprocessing import OneHotEncoder, StandardScaler\n",
    "from sklearn.feature_extraction.text import TfidfVectorizer\n",
    "from sklearn.compose import ColumnTransformer\n",
    "from sklearn.preprocessing import Normalizer\n",
    "from sklearn.pipeline import Pipeline, make_pipeline\n",
    "from sklearn.linear_model import Lasso, Ridge, LinearRegression, LogisticRegression\n",
    "from sklearn.metrics import mean_squared_error\n",
    "from sklearn.model_selection import GridSearchCV\n",
    "import pickle as pkl\n",
    "from tqdm import tqdm\n",
    "import time\n",
    "from datetime import datetime"
   ]
  },
  {
   "cell_type": "code",
   "execution_count": 4,
   "id": "aa90bab4",
   "metadata": {},
   "outputs": [],
   "source": [
    "data = pd.read_csv('final_data.csv')"
   ]
  },
  {
   "cell_type": "code",
   "execution_count": 5,
   "id": "cb14d1ac",
   "metadata": {},
   "outputs": [
    {
     "data": {
      "text/html": [
       "<div>\n",
       "<style scoped>\n",
       "    .dataframe tbody tr th:only-of-type {\n",
       "        vertical-align: middle;\n",
       "    }\n",
       "\n",
       "    .dataframe tbody tr th {\n",
       "        vertical-align: top;\n",
       "    }\n",
       "\n",
       "    .dataframe thead th {\n",
       "        text-align: right;\n",
       "    }\n",
       "</style>\n",
       "<table border=\"1\" class=\"dataframe\">\n",
       "  <thead>\n",
       "    <tr style=\"text-align: right;\">\n",
       "      <th></th>\n",
       "      <th>1st_year_revenue</th>\n",
       "      <th>title</th>\n",
       "      <th>year</th>\n",
       "      <th>released</th>\n",
       "      <th>runtime</th>\n",
       "      <th>top_10_dir</th>\n",
       "      <th>top_50_dir</th>\n",
       "      <th>top_100_dir</th>\n",
       "      <th>top_10_actors</th>\n",
       "      <th>top_50_actors</th>\n",
       "      <th>...</th>\n",
       "      <th>Thriller/Mystery</th>\n",
       "      <th>Drama</th>\n",
       "      <th>Horror</th>\n",
       "      <th>Comedy</th>\n",
       "      <th>Documentary</th>\n",
       "      <th>Family/Animated</th>\n",
       "      <th>Biography/History</th>\n",
       "      <th>Romance</th>\n",
       "      <th>Music/Musical</th>\n",
       "      <th>Likely TV</th>\n",
       "    </tr>\n",
       "  </thead>\n",
       "  <tbody>\n",
       "    <tr>\n",
       "      <th>0</th>\n",
       "      <td>2197561</td>\n",
       "      <td>Africa's Elephant Kingdom</td>\n",
       "      <td>1998</td>\n",
       "      <td>1998-05-08</td>\n",
       "      <td>40.0</td>\n",
       "      <td>0.0</td>\n",
       "      <td>0.0</td>\n",
       "      <td>0.0</td>\n",
       "      <td>0.0</td>\n",
       "      <td>0.0</td>\n",
       "      <td>...</td>\n",
       "      <td>0.0</td>\n",
       "      <td>0.0</td>\n",
       "      <td>0.0</td>\n",
       "      <td>0.0</td>\n",
       "      <td>1.0</td>\n",
       "      <td>0.0</td>\n",
       "      <td>0.0</td>\n",
       "      <td>0.0</td>\n",
       "      <td>0.0</td>\n",
       "      <td>0.0</td>\n",
       "    </tr>\n",
       "    <tr>\n",
       "      <th>1</th>\n",
       "      <td>2637726</td>\n",
       "      <td>God's Army</td>\n",
       "      <td>2000</td>\n",
       "      <td>2000-03-10</td>\n",
       "      <td>108.0</td>\n",
       "      <td>0.0</td>\n",
       "      <td>0.0</td>\n",
       "      <td>0.0</td>\n",
       "      <td>0.0</td>\n",
       "      <td>0.0</td>\n",
       "      <td>...</td>\n",
       "      <td>0.0</td>\n",
       "      <td>1.0</td>\n",
       "      <td>0.0</td>\n",
       "      <td>0.0</td>\n",
       "      <td>0.0</td>\n",
       "      <td>0.0</td>\n",
       "      <td>0.0</td>\n",
       "      <td>0.0</td>\n",
       "      <td>0.0</td>\n",
       "      <td>0.0</td>\n",
       "    </tr>\n",
       "    <tr>\n",
       "      <th>2</th>\n",
       "      <td>2699820</td>\n",
       "      <td>The Bone Collector</td>\n",
       "      <td>1999</td>\n",
       "      <td>1999-11-05</td>\n",
       "      <td>118.0</td>\n",
       "      <td>0.0</td>\n",
       "      <td>0.0</td>\n",
       "      <td>0.0</td>\n",
       "      <td>0.0</td>\n",
       "      <td>1.0</td>\n",
       "      <td>...</td>\n",
       "      <td>1.0</td>\n",
       "      <td>1.0</td>\n",
       "      <td>0.0</td>\n",
       "      <td>0.0</td>\n",
       "      <td>0.0</td>\n",
       "      <td>0.0</td>\n",
       "      <td>0.0</td>\n",
       "      <td>0.0</td>\n",
       "      <td>0.0</td>\n",
       "      <td>0.0</td>\n",
       "    </tr>\n",
       "    <tr>\n",
       "      <th>3</th>\n",
       "      <td>2703114</td>\n",
       "      <td>Double Jeopardy</td>\n",
       "      <td>1999</td>\n",
       "      <td>1999-09-24</td>\n",
       "      <td>105.0</td>\n",
       "      <td>0.0</td>\n",
       "      <td>0.0</td>\n",
       "      <td>0.0</td>\n",
       "      <td>0.0</td>\n",
       "      <td>0.0</td>\n",
       "      <td>...</td>\n",
       "      <td>1.0</td>\n",
       "      <td>1.0</td>\n",
       "      <td>0.0</td>\n",
       "      <td>0.0</td>\n",
       "      <td>0.0</td>\n",
       "      <td>0.0</td>\n",
       "      <td>0.0</td>\n",
       "      <td>0.0</td>\n",
       "      <td>0.0</td>\n",
       "      <td>0.0</td>\n",
       "    </tr>\n",
       "    <tr>\n",
       "      <th>4</th>\n",
       "      <td>1428932</td>\n",
       "      <td>Three Kings</td>\n",
       "      <td>1999</td>\n",
       "      <td>1999-10-01</td>\n",
       "      <td>114.0</td>\n",
       "      <td>0.0</td>\n",
       "      <td>0.0</td>\n",
       "      <td>0.0</td>\n",
       "      <td>1.0</td>\n",
       "      <td>1.0</td>\n",
       "      <td>...</td>\n",
       "      <td>0.0</td>\n",
       "      <td>0.0</td>\n",
       "      <td>0.0</td>\n",
       "      <td>1.0</td>\n",
       "      <td>0.0</td>\n",
       "      <td>0.0</td>\n",
       "      <td>0.0</td>\n",
       "      <td>0.0</td>\n",
       "      <td>0.0</td>\n",
       "      <td>0.0</td>\n",
       "    </tr>\n",
       "  </tbody>\n",
       "</table>\n",
       "<p>5 rows × 28 columns</p>\n",
       "</div>"
      ],
      "text/plain": [
       "   1st_year_revenue                      title  year    released  runtime  \\\n",
       "0           2197561  Africa's Elephant Kingdom  1998  1998-05-08     40.0   \n",
       "1           2637726                 God's Army  2000  2000-03-10    108.0   \n",
       "2           2699820         The Bone Collector  1999  1999-11-05    118.0   \n",
       "3           2703114            Double Jeopardy  1999  1999-09-24    105.0   \n",
       "4           1428932                Three Kings  1999  1999-10-01    114.0   \n",
       "\n",
       "   top_10_dir  top_50_dir  top_100_dir  top_10_actors  top_50_actors  ...  \\\n",
       "0         0.0         0.0          0.0            0.0            0.0  ...   \n",
       "1         0.0         0.0          0.0            0.0            0.0  ...   \n",
       "2         0.0         0.0          0.0            0.0            1.0  ...   \n",
       "3         0.0         0.0          0.0            0.0            0.0  ...   \n",
       "4         0.0         0.0          0.0            1.0            1.0  ...   \n",
       "\n",
       "   Thriller/Mystery Drama Horror Comedy  Documentary  Family/Animated  \\\n",
       "0               0.0   0.0    0.0    0.0          1.0              0.0   \n",
       "1               0.0   1.0    0.0    0.0          0.0              0.0   \n",
       "2               1.0   1.0    0.0    0.0          0.0              0.0   \n",
       "3               1.0   1.0    0.0    0.0          0.0              0.0   \n",
       "4               0.0   0.0    0.0    1.0          0.0              0.0   \n",
       "\n",
       "   Biography/History  Romance  Music/Musical  Likely TV  \n",
       "0                0.0      0.0            0.0        0.0  \n",
       "1                0.0      0.0            0.0        0.0  \n",
       "2                0.0      0.0            0.0        0.0  \n",
       "3                0.0      0.0            0.0        0.0  \n",
       "4                0.0      0.0            0.0        0.0  \n",
       "\n",
       "[5 rows x 28 columns]"
      ]
     },
     "execution_count": 5,
     "metadata": {},
     "output_type": "execute_result"
    }
   ],
   "source": [
    "data.head()"
   ]
  },
  {
   "cell_type": "code",
   "execution_count": null,
   "id": "98fc724e",
   "metadata": {},
   "outputs": [],
   "source": [
    "import statsmodels.api as sm\n",
    "import pandas as pd\n",
    "import numpy as np\n",
    "np.random.seed(444)\n",
    "data = {\n",
    "     'industry': ['mining', 'transportation', 'hospitality', 'finance', 'entertainment'],\n",
    "    'debt_ratio':np.random.randn(5),\n",
    "    'cash_flow':np.random.randn(5) + 90\n",
    " }\n",
    "data = pd.DataFrame.from_dict(data)\n",
    "data = pd.concat((\n",
    "     data,\n",
    "     pd.get_dummies(data['industry'], drop_first=True)), axis=1)\n",
    "# You could also use data.drop('industry', axis=1)\n",
    "# in the call to pd.concat()\n",
    "data"
   ]
  },
  {
   "cell_type": "markdown",
   "id": "f64908d1",
   "metadata": {},
   "source": [
    "### Removing categorical variables for base test"
   ]
  },
  {
   "cell_type": "code",
   "execution_count": null,
   "id": "86a2e46c",
   "metadata": {},
   "outputs": [],
   "source": [
    "y = data.pop('gross')\n",
    "X = data(['year', 'rated'])\n",
    "# X = pd.concat((\n",
    "#     data,\n",
    "#     pd.get_dummies(data, columns= ['language', 'country', 'rating'], drop_first=True)), axis=1)\n",
    "\n",
    "\n",
    "stand_X = (X - np.mean(X, axis = 0)) / np.std(X, axis = 0)\n",
    "stand_X\n",
    "\n",
    "stand_Y = Y\n",
    "\n",
    "X2 = stand_X\n",
    "Y2 = stand_Y\n",
    "\n",
    "X2 = sm.add_constant(X2, prepend=False)\n",
    "mod = sm.OLS(Y2, X2)\n",
    "res = mod.fit()\n",
    "print(res.summary())\n",
    "print(res.params)"
   ]
  },
  {
   "cell_type": "markdown",
   "id": "9f7fb642",
   "metadata": {},
   "source": [
    "### OLS Regression Results"
   ]
  },
  {
   "cell_type": "markdown",
   "id": "8cdf795f",
   "metadata": {},
   "source": [
    "#### Categories that don't need OHE\n",
    "'directors', 'actors', 'genre'"
   ]
  },
  {
   "cell_type": "code",
   "execution_count": 14,
   "id": "9650a6bd",
   "metadata": {},
   "outputs": [
    {
     "ename": "NameError",
     "evalue": "name 'df' is not defined",
     "output_type": "error",
     "traceback": [
      "\u001b[1;31m---------------------------------------------------------------------------\u001b[0m",
      "\u001b[1;31mNameError\u001b[0m                                 Traceback (most recent call last)",
      "\u001b[1;32m~\\AppData\\Local\\Temp/ipykernel_33008/3153565286.py\u001b[0m in \u001b[0;36m<module>\u001b[1;34m\u001b[0m\n\u001b[0;32m      2\u001b[0m \u001b[1;33m\u001b[0m\u001b[0m\n\u001b[0;32m      3\u001b[0m \u001b[1;31m# data = df.('PrevMonth')\u001b[0m\u001b[1;33m\u001b[0m\u001b[1;33m\u001b[0m\u001b[1;33m\u001b[0m\u001b[0m\n\u001b[1;32m----> 4\u001b[1;33m \u001b[0mdata\u001b[0m \u001b[1;33m=\u001b[0m \u001b[0mdf\u001b[0m\u001b[1;33m\u001b[0m\u001b[1;33m\u001b[0m\u001b[0m\n\u001b[0m\u001b[0;32m      5\u001b[0m \u001b[0mdata\u001b[0m\u001b[1;33m.\u001b[0m\u001b[0mhead\u001b[0m\u001b[1;33m(\u001b[0m\u001b[1;33m)\u001b[0m\u001b[1;33m\u001b[0m\u001b[1;33m\u001b[0m\u001b[0m\n\u001b[0;32m      6\u001b[0m \u001b[1;31m# # Regime is categorical\u001b[0m\u001b[1;33m\u001b[0m\u001b[1;33m\u001b[0m\u001b[1;33m\u001b[0m\u001b[0m\n",
      "\u001b[1;31mNameError\u001b[0m: name 'df' is not defined"
     ]
    }
   ],
   "source": [
    "y = data.pop('gross')\n",
    "# X = data\n",
    "X = pd.concat((\n",
    "    data,\n",
    "    pd.get_dummies(data, columns= ['language', 'country', 'rating'], drop_first=True)), axis=1)\n",
    "\n",
    "\n",
    "stand_X = (X - np.mean(X, axis = 0)) / np.std(X, axis = 0)\n",
    "stand_X\n",
    "\n",
    "stand_Y = Y\n",
    "\n",
    "X2 = stand_X\n",
    "Y2 = stand_Y\n",
    "\n",
    "X2 = sm.add_constant(X2, prepend=False)\n",
    "mod = sm.OLS(Y2, X2)\n",
    "res = mod.fit()\n",
    "print(res.summary())\n",
    "print(res.params)"
   ]
  },
  {
   "cell_type": "markdown",
   "id": "d4683683",
   "metadata": {},
   "source": [
    "### Data Transformations"
   ]
  },
  {
   "cell_type": "code",
   "execution_count": null,
   "id": "32e2798b",
   "metadata": {},
   "outputs": [],
   "source": [
    "# y = data.pop('gross')\n",
    "# X = data\n",
    "# X = data.drop(['gross'], axis=1)\n",
    "\n",
    "# Shuffle to false to handle time data\n",
    "X_train, y_train, X_test, y_test = train_test_split(X, y, random_state = 42, shuffle=False, test_size = 0.2)\n",
    "X_train, y_train, X_val, y_val = train_test_split(X_train, y_train, random_state = 42, shuffle=False, test_size = 0.2)"
   ]
  },
  {
   "cell_type": "code",
   "execution_count": 8,
   "id": "4d806415",
   "metadata": {},
   "outputs": [],
   "source": [
    "categorical_cols = []"
   ]
  },
  {
   "cell_type": "code",
   "execution_count": null,
   "id": "00094736",
   "metadata": {},
   "outputs": [],
   "source": [
    "# Text Preprocessor\n",
    "text_preprocesser = Pipeline(\n",
    "    steps=[\n",
    "        # Input tfidf parameters\n",
    "        ('tfidf', TfidfVectorizer())\n",
    "    ])"
   ]
  },
  {
   "cell_type": "code",
   "execution_count": null,
   "id": "67e819d6",
   "metadata": {},
   "outputs": [],
   "source": [
    "# Categorical Preprocessor\n",
    "categorical_preprocessor = Pipeline(\n",
    "    steps=[\n",
    "        # Change to 'ignore' if error raised\n",
    "        (\"OHE\", OneHotEncoder(handle_unknown='error', drop='first'))\n",
    "    ])"
   ]
  },
  {
   "cell_type": "code",
   "execution_count": 9,
   "id": "70e3d4b7",
   "metadata": {},
   "outputs": [],
   "source": [
    "#Combine preprocessors\n",
    "preprocessor = ColumnTransformer(\n",
    "    transformers=[\n",
    "        ('text', text_preprocesser, 'plot'),\n",
    "        ('category', categorical_preprocessor, categorical_cols)\n",
    "    ])"
   ]
  },
  {
   "cell_type": "code",
   "execution_count": null,
   "id": "c8f84640",
   "metadata": {},
   "outputs": [],
   "source": [
    "lr_pipe = make_pipeline(\n",
    "    preprocessor, \n",
    "    StandardScaler(with_mean=False), \n",
    "    LinearRegression()\n",
    ")\n",
    "\n",
    "lasso_pipe = make_pipeline(\n",
    "    preprocessor, \n",
    "    StandardScaler(with_mean=False), \n",
    "    Lasso()\n",
    ")\n",
    "\n",
    "ridge_pipe = make_pipeline(\n",
    "    preprocessor, \n",
    "    StandardScaler(with_mean=False), \n",
    "    Ridge()\n",
    ")\n",
    "\n",
    "rf_pipe = make_pipeline(\n",
    "    preprocessor, \n",
    "    StandardScaler(with_mean=False), \n",
    "    RandomForestRegressor(n_estimators = 300, max_features = 'sqrt', max_depth = 5, random_state = 42)\n",
    ")"
   ]
  },
  {
   "cell_type": "code",
   "execution_count": 12,
   "id": "fa0b2114",
   "metadata": {},
   "outputs": [],
   "source": [
    "## if make_pipeline doesn't work\n",
    "# pipe = Pipeline(\n",
    "#         steps= [\n",
    "#             ('preprocessor', preprocessor),\n",
    "#             ('scaler', StandardScaler(with_mean=False)),\n",
    "#             ('linearReg', LinearRegression())\n",
    "#         ])"
   ]
  },
  {
   "cell_type": "markdown",
   "id": "d6c943bf",
   "metadata": {},
   "source": [
    "### Linear Regression Base Model"
   ]
  },
  {
   "cell_type": "code",
   "execution_count": null,
   "id": "d01cde45",
   "metadata": {},
   "outputs": [],
   "source": [
    "pipe.fit(X_train, y_train)\n",
    "train_score = pipe.score(X_train, y_train)\n",
    "val_score = pipe.score(X_val, y_val)\n",
    "test_score = pipe.score(X_test, y_test)\n",
    "val_pred = pipe.predict(X_val)\n",
    "test_pred = pipe.predict(X_test)\n",
    "\n",
    "print('Linear Regression Results')\n",
    "print(\"Train score:\", train_score)\n",
    "print(\"Val score:\", val_score)\n",
    "print(\"Test score:\", test_score)\n",
    "print(\"Val RMSE:\", np.sqrt(mean_squared_error(y_val, val_pred))\n",
    "print(\"Test RMSE:\", np.sqrt(mean_squared_error(y_test, test_pred))"
   ]
  },
  {
   "cell_type": "markdown",
   "id": "5244e9c1",
   "metadata": {},
   "source": [
    "### Ridge Base Model"
   ]
  },
  {
   "cell_type": "code",
   "execution_count": null,
   "id": "75095c5c",
   "metadata": {},
   "outputs": [],
   "source": [
    "ridge_pipe.fit(X_train, y_train)\n",
    "train_score = ridge_pipe.score(X_train, y_train)\n",
    "val_score = ridge_pipe.score(X_val, y_val)\n",
    "test_score = ridge_pipe.score(X_test, y_test)\n",
    "val_pred = ridge_pipe.predict(X_val)\n",
    "test_pred = ridge_pipe.predict(X_test)\n",
    "\n",
    "print('Ridge Regression Results')\n",
    "print(\"Train score:\", train_score)\n",
    "print(\"Val score:\", val_score)\n",
    "print(\"Test score:\", test_score)\n",
    "print(\"Val RMSE:\", np.sqrt(mean_squared_error(y_val, val_pred))\n",
    "print(\"Test RMSE:\", np.sqrt(mean_squared_error(y_test, test_pred))"
   ]
  },
  {
   "cell_type": "markdown",
   "id": "a3bb436a",
   "metadata": {},
   "source": [
    "### Lasso Base Model"
   ]
  },
  {
   "cell_type": "code",
   "execution_count": null,
   "id": "5ed15abb",
   "metadata": {},
   "outputs": [],
   "source": [
    "lasso_pipe.fit(X_train, y_train)\n",
    "train_score = lasso_pipe.score(X_train, y_train)\n",
    "val_score = lasso_pipe.score(X_val, y_val)\n",
    "test_score = lasso_pipe.score(X_test, y_test)\n",
    "val_pred = lasso_pipe.predict(X_val)\n",
    "test_pred = lasso_pipe.predict(X_test)\n",
    "\n",
    "print('Lasso Regression Results')\n",
    "print(\"Train score:\", train_score)\n",
    "print(\"Val score:\", val_score)\n",
    "print(\"Test score:\", test_score)\n",
    "print(\"Val RMSE:\", np.sqrt(mean_squared_error(y_val, val_pred))\n",
    "print(\"Test RMSE:\", np.sqrt(mean_squared_error(y_test, test_pred))"
   ]
  },
  {
   "cell_type": "markdown",
   "id": "e0a109a7",
   "metadata": {},
   "source": [
    "### RandomForestRegressor Base Model"
   ]
  },
  {
   "cell_type": "code",
   "execution_count": null,
   "id": "58fc2447",
   "metadata": {},
   "outputs": [],
   "source": [
    "# rf_pipe = RandomForestRegressor(n_estimators = 300, max_features = 'sqrt', max_depth = 5, random_state = 42)\n",
    "rf_pipe.fit(X_train, y_train)\n",
    "train_score = rf_pipe.score(X_train, y_train)\n",
    "val_score = rf_pipe.score(X_val, y_val)\n",
    "test_score = rf_pipe.score(X_test, y_test)\n",
    "val_pred = rf_pipe.predict(X_val)\n",
    "test_pred = rf_pipe.predict(X_test)\n",
    "\n",
    "print('RandomForestRegressor Results')\n",
    "print(\"Train score:\", train_score)\n",
    "print(\"Val score:\", val_score)\n",
    "print(\"Test score:\", test_score)\n",
    "print(\"Val RMSE:\", np.sqrt(mean_squared_error(y_val, val_pred))\n",
    "print(\"Test RMSE:\", np.sqrt(mean_squared_error(y_test, test_pred))"
   ]
  },
  {
   "cell_type": "markdown",
   "id": "9170e295",
   "metadata": {},
   "source": [
    "### GridSearchCV"
   ]
  },
  {
   "cell_type": "markdown",
   "id": "0aeb93f6",
   "metadata": {},
   "source": [
    "#### Ridge"
   ]
  },
  {
   "cell_type": "code",
   "execution_count": null,
   "id": "c87b5beb",
   "metadata": {},
   "outputs": [],
   "source": [
    "param_grid = {\n",
    "    \"alpha\": np.logspace(-3, 3, 7),\n",
    "#     \"max_iter\": np.logspace(1, 5, 5)\n",
    "}\n",
    "\n",
    "# Start Time\n",
    "start = datetime.now()\n",
    "\n",
    "grid_search = GridSearchCV(pipe, param_grid=param_grid, n_jobs=-1, verbose = 2)\n",
    "grid_search.fit(X_train, y_train)  \n",
    "print(\"Best params:\", grid_search.best_params_)\n",
    "print(f\"Internal CV score: {grid_search.best_score_:.3f}\")\n",
    "\n",
    "# End Time\n",
    "end = datetime.now()\n",
    "print(\"Process took:\", end - start)"
   ]
  },
  {
   "cell_type": "markdown",
   "id": "49fe8552",
   "metadata": {},
   "source": [
    "#### Lasso"
   ]
  },
  {
   "cell_type": "code",
   "execution_count": null,
   "id": "536c8148",
   "metadata": {},
   "outputs": [],
   "source": [
    "param_grid = {\n",
    "    \"alpha\": np.logspace(-3, 3, 7),\n",
    "#     \"max_iter\": np.logspace(1, 5, 5)\n",
    "}\n",
    "\n",
    "# Start Time\n",
    "start = datetime.now()\n",
    "\n",
    "grid_search = GridSearchCV(pipe, param_grid=param_grid, n_jobs=-1, verbose = 2)\n",
    "grid_search.fit(X_train, y_train)  \n",
    "print(\"Best params:\", grid_search.best_params_)\n",
    "print(f\"Internal CV score: {grid_search.best_score_:.3f}\")\n",
    "\n",
    "# End Time\n",
    "end = datetime.now()\n",
    "print(\"Process took:\", end - start)"
   ]
  },
  {
   "cell_type": "markdown",
   "id": "90303ea2",
   "metadata": {},
   "source": [
    "#### RandomForestRegressor"
   ]
  },
  {
   "cell_type": "code",
   "execution_count": null,
   "id": "40274b95",
   "metadata": {},
   "outputs": [],
   "source": [
    "# Start Time\n",
    "start = datetime.now()\n",
    "\n",
    "param_grid = {\n",
    "    'n_estimators': [200,300,400,500],\n",
    "    'max_features': ['sqrt','log2'],\n",
    "    'max_depth' : [3,4,5,6,7],\n",
    "    'random_state' : [42]\n",
    "}\n",
    "\n",
    "grid_search = GridSearchCV(pipe, param_grid=param_grid, n_jobs=-1, verbose = 10)\n",
    "grid_search.fit(X_train, y_train)  \n",
    "print(\"Best params:\", grid_search.best_params_)\n",
    "print(f\"Internal CV score: {grid_search.best_score_:.3f}\")\n",
    "\n",
    "# End Time\n",
    "end = datetime.now()\n",
    "print(\"Process took:\", end - start)"
   ]
  }
 ],
 "metadata": {
  "kernelspec": {
   "display_name": "Python 3",
   "language": "python",
   "name": "python3"
  },
  "language_info": {
   "codemirror_mode": {
    "name": "ipython",
    "version": 3
   },
   "file_extension": ".py",
   "mimetype": "text/x-python",
   "name": "python",
   "nbconvert_exporter": "python",
   "pygments_lexer": "ipython3",
   "version": "3.8.8"
  }
 },
 "nbformat": 4,
 "nbformat_minor": 5
}
