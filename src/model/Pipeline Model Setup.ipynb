{
 "cells": [
  {
   "cell_type": "code",
   "execution_count": 16,
   "id": "04f7aa64",
   "metadata": {},
   "outputs": [],
   "source": [
    "import pandas as pd\n",
    "import numpy as np\n",
    "import statsmodels.api as sm\n",
    "from sklearn.model_selection import train_test_split\n",
    "from sklearn.impute import SimpleImputer\n",
    "from sklearn.preprocessing import OneHotEncoder, StandardScaler\n",
    "from sklearn.feature_extraction.text import TfidfVectorizer\n",
    "from sklearn.compose import ColumnTransformer\n",
    "from sklearn.preprocessing import Normalizer\n",
    "from sklearn.pipeline import Pipeline, make_pipeline\n",
    "from sklearn.linear_model import Lasso, Ridge, LinearRegression, LogisticRegression\n",
    "from sklearn.metrics import mean_squared_error\n",
    "from sklearn.model_selection import GridSearchCV\n",
    "import pickle as pkl\n",
    "from tqdm import tqdm"
   ]
  },
  {
   "cell_type": "code",
   "execution_count": null,
   "id": "aa90bab4",
   "metadata": {},
   "outputs": [],
   "source": [
    "data = pd.read_csv('')"
   ]
  },
  {
   "cell_type": "code",
   "execution_count": null,
   "id": "98fc724e",
   "metadata": {},
   "outputs": [],
   "source": [
    "import statsmodels.api as sm\n",
    "import pandas as pd\n",
    "import numpy as np\n",
    "np.random.seed(444)\n",
    "data = {\n",
    "     'industry': ['mining', 'transportation', 'hospitality', 'finance', 'entertainment'],\n",
    "    'debt_ratio':np.random.randn(5),\n",
    "    'cash_flow':np.random.randn(5) + 90\n",
    " }\n",
    "data = pd.DataFrame.from_dict(data)\n",
    "data = pd.concat((\n",
    "     data,\n",
    "     pd.get_dummies(data['industry'], drop_first=True)), axis=1)\n",
    "# You could also use data.drop('industry', axis=1)\n",
    "# in the call to pd.concat()\n",
    "data"
   ]
  },
  {
   "cell_type": "markdown",
   "id": "9f7fb642",
   "metadata": {},
   "source": [
    "### OLS Regression Results"
   ]
  },
  {
   "cell_type": "markdown",
   "id": "8cdf795f",
   "metadata": {},
   "source": [
    "#### Categories that don't need OHE\n",
    "'directors', 'actors', 'genre'"
   ]
  },
  {
   "cell_type": "code",
   "execution_count": 14,
   "id": "9650a6bd",
   "metadata": {},
   "outputs": [
    {
     "ename": "NameError",
     "evalue": "name 'df' is not defined",
     "output_type": "error",
     "traceback": [
      "\u001b[1;31m---------------------------------------------------------------------------\u001b[0m",
      "\u001b[1;31mNameError\u001b[0m                                 Traceback (most recent call last)",
      "\u001b[1;32m~\\AppData\\Local\\Temp/ipykernel_33008/3153565286.py\u001b[0m in \u001b[0;36m<module>\u001b[1;34m\u001b[0m\n\u001b[0;32m      2\u001b[0m \u001b[1;33m\u001b[0m\u001b[0m\n\u001b[0;32m      3\u001b[0m \u001b[1;31m# data = df.('PrevMonth')\u001b[0m\u001b[1;33m\u001b[0m\u001b[1;33m\u001b[0m\u001b[1;33m\u001b[0m\u001b[0m\n\u001b[1;32m----> 4\u001b[1;33m \u001b[0mdata\u001b[0m \u001b[1;33m=\u001b[0m \u001b[0mdf\u001b[0m\u001b[1;33m\u001b[0m\u001b[1;33m\u001b[0m\u001b[0m\n\u001b[0m\u001b[0;32m      5\u001b[0m \u001b[0mdata\u001b[0m\u001b[1;33m.\u001b[0m\u001b[0mhead\u001b[0m\u001b[1;33m(\u001b[0m\u001b[1;33m)\u001b[0m\u001b[1;33m\u001b[0m\u001b[1;33m\u001b[0m\u001b[0m\n\u001b[0;32m      6\u001b[0m \u001b[1;31m# # Regime is categorical\u001b[0m\u001b[1;33m\u001b[0m\u001b[1;33m\u001b[0m\u001b[1;33m\u001b[0m\u001b[0m\n",
      "\u001b[1;31mNameError\u001b[0m: name 'df' is not defined"
     ]
    }
   ],
   "source": [
    "y = data.pop('gross')\n",
    "# X = data\n",
    "X = pd.concat((\n",
    "    data,\n",
    "    pd.get_dummies(data, columns= ['language', 'country', 'rating'], drop_first=True)), axis=1)\n",
    "\n",
    "\n",
    "stand_X = (X - np.mean(X, axis = 0)) / np.std(X, axis = 0)\n",
    "stand_X\n",
    "\n",
    "stand_Y = Y\n",
    "\n",
    "X2 = stand_X\n",
    "Y2 = stand_Y\n",
    "\n",
    "X2 = sm.add_constant(X2, prepend=False)\n",
    "mod = sm.OLS(Y2, X2)\n",
    "res = mod.fit()\n",
    "print(res.summary())\n",
    "print(res.params)"
   ]
  },
  {
   "cell_type": "markdown",
   "id": "d4683683",
   "metadata": {},
   "source": [
    "### Data Transformations"
   ]
  },
  {
   "cell_type": "code",
   "execution_count": null,
   "id": "32e2798b",
   "metadata": {},
   "outputs": [],
   "source": [
    "# y = data.pop('gross')\n",
    "# X = data\n",
    "# X = data.drop(['gross'], axis=1)\n",
    "\n",
    "# Shuffle to false to handle time data\n",
    "X_train, y_train, X_test, y_test = train_test_split(X, y, random_state = 42, shuffle=False, test_size = 0.2)\n",
    "X_train, y_train, X_val, y_val = train_test_split(X_train, y_train, random_state = 42, shuffle=False, test_size = 0.2)"
   ]
  },
  {
   "cell_type": "code",
   "execution_count": 8,
   "id": "4d806415",
   "metadata": {},
   "outputs": [],
   "source": [
    "categorical_cols = []"
   ]
  },
  {
   "cell_type": "code",
   "execution_count": null,
   "id": "00094736",
   "metadata": {},
   "outputs": [],
   "source": [
    "# Text Preprocessor\n",
    "text_preprocesser = Pipeline(\n",
    "    steps=[\n",
    "        # Input tfidf parameters\n",
    "        ('tfidf', TfidfVectorizer())\n",
    "    ])"
   ]
  },
  {
   "cell_type": "code",
   "execution_count": null,
   "id": "67e819d6",
   "metadata": {},
   "outputs": [],
   "source": [
    "# Categorical Preprocessor\n",
    "categorical_preprocessor = Pipeline(\n",
    "    steps=[\n",
    "        # Change to 'ignore' if error raised\n",
    "        (\"OHE\", OneHotEncoder(handle_unknown='error', drop='first'))\n",
    "    ])"
   ]
  },
  {
   "cell_type": "code",
   "execution_count": 9,
   "id": "70e3d4b7",
   "metadata": {},
   "outputs": [],
   "source": [
    "#Combine preprocessors\n",
    "preprocessor = ColumnTransformer(\n",
    "    transformers=[\n",
    "        ('text', text_preprocesser, 'plot'),\n",
    "        ('category', categorical_preprocessor, categorical_cols)\n",
    "    ])"
   ]
  },
  {
   "cell_type": "code",
   "execution_count": null,
   "id": "c8f84640",
   "metadata": {},
   "outputs": [],
   "source": [
    "lr_pipe = make_pipeline(\n",
    "    preprocessor, \n",
    "    StandardScaler(with_mean=False), \n",
    "    LinearRegression()\n",
    ")\n",
    "\n",
    "lasso_pipe = make_pipeline(\n",
    "    preprocessor, \n",
    "    StandardScaler(with_mean=False), \n",
    "    Lasso()\n",
    ")\n",
    "\n",
    "ridge_pipe = make_pipeline(\n",
    "    preprocessor, \n",
    "    StandardScaler(with_mean=False), \n",
    "    Ridge()\n",
    ")"
   ]
  },
  {
   "cell_type": "code",
   "execution_count": 12,
   "id": "fa0b2114",
   "metadata": {},
   "outputs": [],
   "source": [
    "## if make_pipeline doesn't work\n",
    "# pipe = Pipeline(\n",
    "#         steps= [\n",
    "#             ('preprocessor', preprocessor),\n",
    "#             ('scaler', StandardScaler(with_mean=False)),\n",
    "#             ('linearReg', LinearRegression())\n",
    "#         ])"
   ]
  },
  {
   "cell_type": "markdown",
   "id": "d6c943bf",
   "metadata": {},
   "source": [
    "### Linear Regression Base Model"
   ]
  },
  {
   "cell_type": "code",
   "execution_count": null,
   "id": "d01cde45",
   "metadata": {},
   "outputs": [],
   "source": [
    "pipe.fit(X_train, y_train)\n",
    "train_score = pipe.score(X_train, y_train)\n",
    "val_score = pipe.score(X_val, y_val)\n",
    "test_score = pipe.score(X_test, y_test)\n",
    "val_pred = pipe.predict(X_val)\n",
    "test_pred = pipe.predict(X_test)\n",
    "\n",
    "print('Linear Regression Results')\n",
    "print(\"Train score:\", train_score)\n",
    "print(\"Val score:\", val_score)\n",
    "print(\"Test score:\", test_score)\n",
    "print(\"Val RMSE:\", np.sqrt(mean_squared_error(y_val, val_pred))\n",
    "print(\"Test RMSE:\", np.sqrt(mean_squared_error(y_test, test_pred))"
   ]
  },
  {
   "cell_type": "markdown",
   "id": "5244e9c1",
   "metadata": {},
   "source": [
    "### Ridge Base Model"
   ]
  },
  {
   "cell_type": "code",
   "execution_count": null,
   "id": "75095c5c",
   "metadata": {},
   "outputs": [],
   "source": [
    "ridge_pipe.fit(X_train, y_train)\n",
    "train_score = ridge_pipe.score(X_train, y_train)\n",
    "val_score = ridge_pipe.score(X_val, y_val)\n",
    "test_score = ridge_pipe.score(X_test, y_test)\n",
    "val_pred = ridge_pipe.predict(X_val)\n",
    "test_pred = ridge_pipe.predict(X_test)\n",
    "\n",
    "print('Ridge Regression Results')\n",
    "print(\"Train score:\", train_score)\n",
    "print(\"Val score:\", val_score)\n",
    "print(\"Test score:\", test_score)\n",
    "print(\"Val RMSE:\", np.sqrt(mean_squared_error(y_val, val_pred))\n",
    "print(\"Test RMSE:\", np.sqrt(mean_squared_error(y_test, test_pred))"
   ]
  },
  {
   "cell_type": "markdown",
   "id": "a3bb436a",
   "metadata": {},
   "source": [
    "### Lasso Base Model"
   ]
  },
  {
   "cell_type": "code",
   "execution_count": null,
   "id": "5ed15abb",
   "metadata": {},
   "outputs": [],
   "source": [
    "lasso_pipe.fit(X_train, y_train)\n",
    "train_score = lasso_pipe.score(X_train, y_train)\n",
    "val_score = lasso_pipe.score(X_val, y_val)\n",
    "test_score = lasso_pipe.score(X_test, y_test)\n",
    "val_pred = lasso_pipe.predict(X_val)\n",
    "test_pred = lasso_pipe.predict(X_test)\n",
    "\n",
    "print('Lasso Regression Results')\n",
    "print(\"Train score:\", train_score)\n",
    "print(\"Val score:\", val_score)\n",
    "print(\"Test score:\", test_score)\n",
    "print(\"Val RMSE:\", np.sqrt(mean_squared_error(y_val, val_pred))\n",
    "print(\"Test RMSE:\", np.sqrt(mean_squared_error(y_test, test_pred))"
   ]
  },
  {
   "cell_type": "markdown",
   "id": "9170e295",
   "metadata": {},
   "source": [
    "### GridSearchCV"
   ]
  },
  {
   "cell_type": "markdown",
   "id": "0aeb93f6",
   "metadata": {},
   "source": [
    "#### Ridge"
   ]
  },
  {
   "cell_type": "code",
   "execution_count": null,
   "id": "c87b5beb",
   "metadata": {},
   "outputs": [],
   "source": [
    "param_grid = {\n",
    "    \"regressor__alpha\": np.logspace(-3, 3, 7),\n",
    "#     \"regressor__max_iter\": np.logspace(1, 5, 5)\n",
    "}\n",
    "\n",
    "grid_search = GridSearchCV(pipe, param_grid=param_grid, n_jobs=-1, verbose = 2)\n",
    "grid_search.fit(X_train, y_train)  # click on the diagram below to see the details of each step\n",
    "print(\"Best params:\", grid_search.best_params_)\n",
    "print(f\"Internal CV score: {grid_search.best_score_:.3f}\")"
   ]
  },
  {
   "cell_type": "markdown",
   "id": "49fe8552",
   "metadata": {},
   "source": [
    "#### Lasso"
   ]
  },
  {
   "cell_type": "code",
   "execution_count": null,
   "id": "536c8148",
   "metadata": {},
   "outputs": [],
   "source": [
    "param_grid = {\n",
    "    \"regressor__alpha\": np.logspace(-3, 3, 7),\n",
    "#     \"regressor__max_iter\": np.logspace(1, 5, 5)\n",
    "}\n",
    "\n",
    "grid_search = GridSearchCV(pipe, param_grid=param_grid, n_jobs=-1, verbose = 2)\n",
    "grid_search.fit(X_train, y_train)  # click on the diagram below to see the details of each step\n",
    "print(\"Best params:\", grid_search.best_params_)\n",
    "print(f\"Internal CV score: {grid_search.best_score_:.3f}\")"
   ]
  }
 ],
 "metadata": {
  "kernelspec": {
   "display_name": "Python 3 (ipykernel)",
   "language": "python",
   "name": "python3"
  },
  "language_info": {
   "codemirror_mode": {
    "name": "ipython",
    "version": 3
   },
   "file_extension": ".py",
   "mimetype": "text/x-python",
   "name": "python",
   "nbconvert_exporter": "python",
   "pygments_lexer": "ipython3",
   "version": "3.8.10"
  }
 },
 "nbformat": 4,
 "nbformat_minor": 5
}
