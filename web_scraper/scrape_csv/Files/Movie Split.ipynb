{
 "cells": [
  {
   "cell_type": "code",
   "execution_count": 1,
   "id": "a0d59eaa",
   "metadata": {},
   "outputs": [],
   "source": [
    "import pandas as pd\n",
    "import numpy as np\n",
    "import csv"
   ]
  },
  {
   "cell_type": "code",
   "execution_count": 14,
   "id": "efbe10ac",
   "metadata": {},
   "outputs": [],
   "source": [
    "df = pd.read_csv('moviesFull.csv')"
   ]
  },
  {
   "cell_type": "code",
   "execution_count": 15,
   "id": "ca144d48",
   "metadata": {},
   "outputs": [
    {
     "data": {
      "text/html": [
       "<div>\n",
       "<style scoped>\n",
       "    .dataframe tbody tr th:only-of-type {\n",
       "        vertical-align: middle;\n",
       "    }\n",
       "\n",
       "    .dataframe tbody tr th {\n",
       "        vertical-align: top;\n",
       "    }\n",
       "\n",
       "    .dataframe thead th {\n",
       "        text-align: right;\n",
       "    }\n",
       "</style>\n",
       "<table border=\"1\" class=\"dataframe\">\n",
       "  <thead>\n",
       "    <tr style=\"text-align: right;\">\n",
       "      <th></th>\n",
       "      <th>Year</th>\n",
       "      <th>Rank</th>\n",
       "      <th>Movie</th>\n",
       "      <th>Release Date</th>\n",
       "      <th>Distributor</th>\n",
       "      <th>Genre</th>\n",
       "      <th>2021 Gross</th>\n",
       "      <th>Tickets Sold</th>\n",
       "    </tr>\n",
       "  </thead>\n",
       "  <tbody>\n",
       "    <tr>\n",
       "      <th>0</th>\n",
       "      <td>2021</td>\n",
       "      <td>1</td>\n",
       "      <td>Spider-Man: No Way Home</td>\n",
       "      <td>Dec 17, 2021</td>\n",
       "      <td>Sony Pictures</td>\n",
       "      <td>Action</td>\n",
       "      <td>$572,984,769</td>\n",
       "      <td>62,484,708</td>\n",
       "    </tr>\n",
       "    <tr>\n",
       "      <th>1</th>\n",
       "      <td>2021</td>\n",
       "      <td>2</td>\n",
       "      <td>Shang-Chi and the Legend of…</td>\n",
       "      <td>Sep 3, 2021</td>\n",
       "      <td>Walt Disney</td>\n",
       "      <td>Action</td>\n",
       "      <td>$224,543,292</td>\n",
       "      <td>24,486,728</td>\n",
       "    </tr>\n",
       "    <tr>\n",
       "      <th>2</th>\n",
       "      <td>2021</td>\n",
       "      <td>3</td>\n",
       "      <td>Venom: Let There be Carnage</td>\n",
       "      <td>Oct 1, 2021</td>\n",
       "      <td>Sony Pictures</td>\n",
       "      <td>Action</td>\n",
       "      <td>$212,609,036</td>\n",
       "      <td>23,185,282</td>\n",
       "    </tr>\n",
       "    <tr>\n",
       "      <th>3</th>\n",
       "      <td>2021</td>\n",
       "      <td>4</td>\n",
       "      <td>Black Widow</td>\n",
       "      <td>Jul 9, 2021</td>\n",
       "      <td>Walt Disney</td>\n",
       "      <td>Action</td>\n",
       "      <td>$183,651,655</td>\n",
       "      <td>20,027,443</td>\n",
       "    </tr>\n",
       "    <tr>\n",
       "      <th>4</th>\n",
       "      <td>2021</td>\n",
       "      <td>5</td>\n",
       "      <td>F9: The Fast Saga</td>\n",
       "      <td>Jun 25, 2021</td>\n",
       "      <td>Universal</td>\n",
       "      <td>Action</td>\n",
       "      <td>$173,005,945</td>\n",
       "      <td>18,866,515</td>\n",
       "    </tr>\n",
       "  </tbody>\n",
       "</table>\n",
       "</div>"
      ],
      "text/plain": [
       "   Year Rank                         Movie  Release Date    Distributor  \\\n",
       "0  2021    1       Spider-Man: No Way Home  Dec 17, 2021  Sony Pictures   \n",
       "1  2021    2  Shang-Chi and the Legend of…   Sep 3, 2021    Walt Disney   \n",
       "2  2021    3   Venom: Let There be Carnage   Oct 1, 2021  Sony Pictures   \n",
       "3  2021    4                   Black Widow   Jul 9, 2021    Walt Disney   \n",
       "4  2021    5             F9: The Fast Saga  Jun 25, 2021      Universal   \n",
       "\n",
       "    Genre    2021 Gross Tickets Sold  \n",
       "0  Action  $572,984,769   62,484,708  \n",
       "1  Action  $224,543,292   24,486,728  \n",
       "2  Action  $212,609,036   23,185,282  \n",
       "3  Action  $183,651,655   20,027,443  \n",
       "4  Action  $173,005,945   18,866,515  "
      ]
     },
     "execution_count": 15,
     "metadata": {},
     "output_type": "execute_result"
    }
   ],
   "source": [
    "df.head()"
   ]
  },
  {
   "cell_type": "code",
   "execution_count": 16,
   "id": "a9c330b5",
   "metadata": {},
   "outputs": [
    {
     "data": {
      "text/plain": [
       "(14960, 8)"
      ]
     },
     "execution_count": 16,
     "metadata": {},
     "output_type": "execute_result"
    }
   ],
   "source": [
    "df.shape"
   ]
  },
  {
   "cell_type": "code",
   "execution_count": 19,
   "id": "8cd19b27",
   "metadata": {},
   "outputs": [
    {
     "data": {
      "text/plain": [
       "(21, 8)"
      ]
     },
     "execution_count": 19,
     "metadata": {},
     "output_type": "execute_result"
    }
   ],
   "source": [
    "df[df['Year'] == 'Year'].shape"
   ]
  },
  {
   "cell_type": "code",
   "execution_count": 20,
   "id": "98c74f80",
   "metadata": {},
   "outputs": [],
   "source": [
    "df = df[df['Year'] != 'Year']"
   ]
  },
  {
   "cell_type": "code",
   "execution_count": 21,
   "id": "a5fc3827",
   "metadata": {},
   "outputs": [
    {
     "data": {
      "text/plain": [
       "(14939, 8)"
      ]
     },
     "execution_count": 21,
     "metadata": {},
     "output_type": "execute_result"
    }
   ],
   "source": [
    "df.shape"
   ]
  },
  {
   "cell_type": "code",
   "execution_count": 23,
   "id": "e47363de",
   "metadata": {},
   "outputs": [
    {
     "data": {
      "text/plain": [
       "4979"
      ]
     },
     "execution_count": 23,
     "metadata": {},
     "output_type": "execute_result"
    }
   ],
   "source": [
    "df.shape[0] // 3"
   ]
  },
  {
   "cell_type": "code",
   "execution_count": 26,
   "id": "16b504d2",
   "metadata": {},
   "outputs": [
    {
     "data": {
      "text/plain": [
       "9958"
      ]
     },
     "execution_count": 26,
     "metadata": {},
     "output_type": "execute_result"
    }
   ],
   "source": [
    "4979*2"
   ]
  },
  {
   "cell_type": "code",
   "execution_count": 35,
   "id": "ddaf9e50",
   "metadata": {},
   "outputs": [],
   "source": [
    "df1 = df[:4979]\n",
    "df2 = df[4980:9960]\n",
    "df3 = df[9961:]"
   ]
  },
  {
   "cell_type": "code",
   "execution_count": 41,
   "id": "740bc3e1",
   "metadata": {},
   "outputs": [],
   "source": [
    "df1 = df1['Movie']\n",
    "df2 = df2['Movie']\n",
    "df3 = df3['Movie']"
   ]
  },
  {
   "cell_type": "code",
   "execution_count": 42,
   "id": "91229223",
   "metadata": {},
   "outputs": [
    {
     "data": {
      "text/plain": [
       "(4979,)"
      ]
     },
     "execution_count": 42,
     "metadata": {},
     "output_type": "execute_result"
    }
   ],
   "source": [
    "df1.to+"
   ]
  },
  {
   "cell_type": "code",
   "execution_count": 43,
   "id": "69fab057",
   "metadata": {},
   "outputs": [
    {
     "data": {
      "text/plain": [
       "(4980,)"
      ]
     },
     "execution_count": 43,
     "metadata": {},
     "output_type": "execute_result"
    }
   ],
   "source": [
    "df2.shape"
   ]
  },
  {
   "cell_type": "code",
   "execution_count": 44,
   "id": "a21df948",
   "metadata": {},
   "outputs": [
    {
     "data": {
      "text/plain": [
       "(4978,)"
      ]
     },
     "execution_count": 44,
     "metadata": {},
     "output_type": "execute_result"
    }
   ],
   "source": [
    "df3.shape"
   ]
  },
  {
   "cell_type": "code",
   "execution_count": null,
   "id": "57342742",
   "metadata": {},
   "outputs": [],
   "source": []
  }
 ],
 "metadata": {
  "kernelspec": {
   "display_name": "Python 3 (ipykernel)",
   "language": "python",
   "name": "python3"
  },
  "language_info": {
   "codemirror_mode": {
    "name": "ipython",
    "version": 3
   },
   "file_extension": ".py",
   "mimetype": "text/x-python",
   "name": "python",
   "nbconvert_exporter": "python",
   "pygments_lexer": "ipython3",
   "version": "3.8.10"
  }
 },
 "nbformat": 4,
 "nbformat_minor": 5
}
